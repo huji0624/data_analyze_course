{
 "cells": [
  {
   "cell_type": "markdown",
   "metadata": {},
   "source": [
    "# 课程简介\n",
    "\n",
    "* 自学指南\n",
    "* 数据分析大概怎么做，难点在哪\n",
    "* Python简单回顾\n",
    "* Pandas VS Python\n",
    "* Pandas基础知识\n",
    "* 实践1：用户行为数据分析\n",
    "* 答疑和后续"
   ]
  },
  {
   "cell_type": "markdown",
   "metadata": {},
   "source": [
    "# 自学指南\n",
    "\n",
    "#### 初步应用\n",
    "\n",
    "* conda安装：https://www.anaconda.com/products/individual\n",
    "* Jupyter Notebook安装：https://jupyter.org/install.html\n",
    "* Python教程：http://www.ttlsa.com/docs/jianming-python/python/  ，看以下几个部分就行了 1,2,3,4,5,6,7,9\n",
    "* Pandas官方教程：https://pandas.pydata.org/pandas-docs/stable/getting_started/index.html\n",
    "\n",
    "#### 进阶\n",
    "\n",
    "* 《线性代数及其应用》或任何其他讲线性代数的书\n",
    "* 《概率论与数理统计》或任何其他讲概率论的书\n",
    "* 《统计推断》或任何其他讲统计的书"
   ]
  },
  {
   "cell_type": "markdown",
   "metadata": {},
   "source": [
    "# 数据分析大概怎么做，难点在哪"
   ]
  },
  {
   "cell_type": "markdown",
   "metadata": {},
   "source": [
    "#### 难点\n",
    "1. 懂业务的人不懂程序，懂程序的人不懂业务，懂程序懂业务的人可能不懂统计\n",
    "2. 数据分析，数据挖掘是一个交叉性非常强的方向，对人员综合素质要求较高\n",
    "3. 实际的数据分析工作中，对数据的清洗，校验很麻烦且容易被忽略而得到一个不是明显错误的结论"
   ]
  },
  {
   "cell_type": "markdown",
   "metadata": {},
   "source": [
    "#### 怎么做（个人经验）\n",
    "1. 掌握相关编程技能\n",
    "2. 了解基本的统计学指标和方法\n",
    "3. 深入理解业务本身\n",
    "4. 进行 提出假设 -》根据数据验证假设 -》得到结论和新的假设 -》提出假设 的循环"
   ]
  },
  {
   "cell_type": "markdown",
   "metadata": {},
   "source": [
    "# Python简单回顾"
   ]
  },
  {
   "cell_type": "code",
   "execution_count": 90,
   "metadata": {},
   "outputs": [
    {
     "name": "stdout",
     "output_type": "stream",
     "text": [
      "5.140000000000001\n",
      "python pandas\n",
      "False\n",
      "True\n"
     ]
    }
   ],
   "source": [
    "#变量和运算\n",
    "\n",
    "a = 3.14\n",
    "b = 2\n",
    "c = \"python\"\n",
    "d = True\n",
    "e = False\n",
    "\n",
    "print(a+b)\n",
    "print(c+\" pandas\")\n",
    "print(d&e)\n",
    "print(d|e)"
   ]
  },
  {
   "cell_type": "code",
   "execution_count": 6,
   "metadata": {},
   "outputs": [
    {
     "name": "stdout",
     "output_type": "stream",
     "text": [
      "+0\n",
      "-1\n",
      "+2\n",
      "-3\n",
      "+4\n",
      "-5\n",
      "+6\n",
      "-7\n",
      "+8\n",
      "-9\n"
     ]
    }
   ],
   "source": [
    "#控制流\n",
    "\n",
    "for i in range(10):\n",
    "    if i%2==0:\n",
    "        print(\"+\"+str(i))\n",
    "    else:\n",
    "        print(\"-\"+str(i))"
   ]
  },
  {
   "cell_type": "markdown",
   "metadata": {},
   "source": [
    "#### 基本数据结构"
   ]
  },
  {
   "cell_type": "code",
   "execution_count": 12,
   "metadata": {},
   "outputs": [
    {
     "name": "stdout",
     "output_type": "stream",
     "text": [
      "3\n",
      "1\n",
      "4\n",
      "1\n",
      "5\n",
      "9\n",
      "2\n",
      "6\n",
      "[1, 4, 1, 5, 9, 2, 6]\n"
     ]
    }
   ],
   "source": [
    "#list\n",
    "a = [3,1,4,1,5,9,2]\n",
    "a.append(6)\n",
    "\n",
    "for i in a:\n",
    "    print(i)\n",
    "    \n",
    "a.pop(0)\n",
    "print(a)"
   ]
  },
  {
   "cell_type": "code",
   "execution_count": 13,
   "metadata": {},
   "outputs": [
    {
     "name": "stdout",
     "output_type": "stream",
     "text": [
      "{'lan1': 'c', 'lan2': 'python', 'lan3': 'c++'}\n",
      "{'lan1': 'c', 'lan2': 'python', 'lan3': 'c++', 'lan4': 'java'}\n",
      "{'lan2': 'python', 'lan3': 'c++', 'lan4': 'java'}\n",
      "java\n",
      "lan2 : python\n",
      "lan3 : c++\n",
      "lan4 : java\n"
     ]
    }
   ],
   "source": [
    "#map\n",
    "b = {\"lan1\":\"c\",\"lan2\":\"python\",\"lan3\":\"c++\"}\n",
    "print(b)\n",
    "\n",
    "b[\"lan4\"] = \"java\"\n",
    "print(b)\n",
    "\n",
    "del b['lan1']\n",
    "print(b)\n",
    "\n",
    "print(b['lan4'])\n",
    "\n",
    "for k,v in b.items():\n",
    "    print(k+\" : \"+v)"
   ]
  },
  {
   "cell_type": "markdown",
   "metadata": {},
   "source": [
    "# Pandas VS Python"
   ]
  },
  {
   "cell_type": "code",
   "execution_count": 215,
   "metadata": {},
   "outputs": [],
   "source": [
    "import pandas as pd\n",
    "import numpy as np\n",
    "import matplotlib.pyplot as plt\n",
    "\n",
    "plt.rcParams['axes.grid'] = True"
   ]
  },
  {
   "cell_type": "code",
   "execution_count": 174,
   "metadata": {},
   "outputs": [
    {
     "name": "stdout",
     "output_type": "stream",
     "text": [
      "[0.21742749 0.57158945 0.40610649 ... 0.69586845 0.80191076 0.18602396]\n",
      "[0.99324972 0.9797505  0.28928897 ... 0.01421459 0.95573674 0.70207495]\n"
     ]
    }
   ],
   "source": [
    "#某种商品在每一个时间点在两个市场统计到的价格 p1 , p2\n",
    "p1 = np.random.random(100000)\n",
    "p2 = np.random.random(100000)\n",
    "\n",
    "print(p1)\n",
    "print(p2)"
   ]
  },
  {
   "cell_type": "markdown",
   "metadata": {},
   "source": [
    "#### 价格中位数"
   ]
  },
  {
   "cell_type": "code",
   "execution_count": 175,
   "metadata": {},
   "outputs": [
    {
     "name": "stdout",
     "output_type": "stream",
     "text": [
      "0.5025137206291482\n",
      "0.4974805081558715\n"
     ]
    },
    {
     "data": {
      "text/plain": [
       "p1    0.502518\n",
       "p2    0.497481\n",
       "dtype: float64"
      ]
     },
     "execution_count": 175,
     "metadata": {},
     "output_type": "execute_result"
    }
   ],
   "source": [
    "#python\n",
    "def median(l):\n",
    "    l = sorted(l)\n",
    "    count = len(l)\n",
    "    return l[int(count/2)-1]\n",
    "print(median(p1))\n",
    "print(median(p2))\n",
    "\n",
    "#pandas\n",
    "df = pd.DataFrame({\"p1\":p1,\"p2\":p2})\n",
    "df.median()"
   ]
  },
  {
   "cell_type": "markdown",
   "metadata": {},
   "source": [
    "#### 每个数据点 p1和p2 的平均数"
   ]
  },
  {
   "cell_type": "code",
   "execution_count": 176,
   "metadata": {},
   "outputs": [
    {
     "name": "stdout",
     "output_type": "stream",
     "text": [
      "[0.6053386057325811, 0.7756699789746244, 0.34769772738710414, 0.24774137506215083, 0.3261743068504959, 0.4607782357433639, 0.6741522665899463, 0.7856736051261528, 0.3283369381954428, 0.6129976553592602]\n",
      "0        0.605339\n",
      "1        0.775670\n",
      "2        0.347698\n",
      "3        0.247741\n",
      "4        0.326174\n",
      "           ...   \n",
      "99995    0.473593\n",
      "99996    0.466511\n",
      "99997    0.355042\n",
      "99998    0.878824\n",
      "99999    0.444049\n",
      "Length: 100000, dtype: float64\n",
      "0        0.605339\n",
      "1        0.775670\n",
      "2        0.347698\n",
      "3        0.247741\n",
      "4        0.326174\n",
      "           ...   \n",
      "99995    0.473593\n",
      "99996    0.466511\n",
      "99997    0.355042\n",
      "99998    0.878824\n",
      "99999    0.444049\n",
      "Length: 100000, dtype: float64\n",
      "0        0.605339\n",
      "1        0.775670\n",
      "2        0.347698\n",
      "3        0.247741\n",
      "4        0.326174\n",
      "           ...   \n",
      "99995    0.473593\n",
      "99996    0.466511\n",
      "99997    0.355042\n",
      "99998    0.878824\n",
      "99999    0.444049\n",
      "Length: 100000, dtype: float64\n"
     ]
    }
   ],
   "source": [
    "#python\n",
    "means = []\n",
    "for i in range(len(p1)):\n",
    "    means.append((p1[i]+p2[i])/2)\n",
    "print(means[:10])\n",
    "\n",
    "#pandas\n",
    "print(df.apply(lambda x:(x['p1']+x['p2'])/2,axis=1))\n",
    "\n",
    "print((df['p1']+df['p2'])/2)\n",
    "\n",
    "print(df.mean(axis=1))"
   ]
  },
  {
   "cell_type": "markdown",
   "metadata": {},
   "source": [
    "# Pandas基础知识"
   ]
  },
  {
   "cell_type": "markdown",
   "metadata": {},
   "source": [
    "#### 创建DataFrame"
   ]
  },
  {
   "cell_type": "code",
   "execution_count": 217,
   "metadata": {},
   "outputs": [
    {
     "name": "stdout",
     "output_type": "stream",
     "text": [
      "<class 'pandas.core.series.Series'>\n",
      "<class 'pandas.core.frame.DataFrame'>\n"
     ]
    }
   ],
   "source": [
    "p1 = np.random.random(1000)\n",
    "p2 = np.random.random(1000)*0.8 + p1\n",
    "df = pd.DataFrame({\"p1\":p1,\"p2\":p2})\n",
    "dates = pd.date_range(\"20130101\", periods=1000)\n",
    "df.index = dates\n",
    "\n",
    "print(type(df['p1']))\n",
    "print(type(df))"
   ]
  },
  {
   "cell_type": "markdown",
   "metadata": {},
   "source": [
    "#### 查看数据"
   ]
  },
  {
   "cell_type": "code",
   "execution_count": 218,
   "metadata": {},
   "outputs": [
    {
     "data": {
      "text/html": [
       "<div>\n",
       "<style scoped>\n",
       "    .dataframe tbody tr th:only-of-type {\n",
       "        vertical-align: middle;\n",
       "    }\n",
       "\n",
       "    .dataframe tbody tr th {\n",
       "        vertical-align: top;\n",
       "    }\n",
       "\n",
       "    .dataframe thead th {\n",
       "        text-align: right;\n",
       "    }\n",
       "</style>\n",
       "<table border=\"1\" class=\"dataframe\">\n",
       "  <thead>\n",
       "    <tr style=\"text-align: right;\">\n",
       "      <th></th>\n",
       "      <th>p1</th>\n",
       "      <th>p2</th>\n",
       "    </tr>\n",
       "  </thead>\n",
       "  <tbody>\n",
       "    <tr>\n",
       "      <th>2013-01-01</th>\n",
       "      <td>0.388888</td>\n",
       "      <td>0.430945</td>\n",
       "    </tr>\n",
       "    <tr>\n",
       "      <th>2013-01-02</th>\n",
       "      <td>0.314820</td>\n",
       "      <td>0.328444</td>\n",
       "    </tr>\n",
       "    <tr>\n",
       "      <th>2013-01-03</th>\n",
       "      <td>0.209659</td>\n",
       "      <td>0.696053</td>\n",
       "    </tr>\n",
       "  </tbody>\n",
       "</table>\n",
       "</div>"
      ],
      "text/plain": [
       "                  p1        p2\n",
       "2013-01-01  0.388888  0.430945\n",
       "2013-01-02  0.314820  0.328444\n",
       "2013-01-03  0.209659  0.696053"
      ]
     },
     "execution_count": 218,
     "metadata": {},
     "output_type": "execute_result"
    }
   ],
   "source": [
    "df.head(3)"
   ]
  },
  {
   "cell_type": "code",
   "execution_count": 219,
   "metadata": {},
   "outputs": [
    {
     "data": {
      "text/html": [
       "<div>\n",
       "<style scoped>\n",
       "    .dataframe tbody tr th:only-of-type {\n",
       "        vertical-align: middle;\n",
       "    }\n",
       "\n",
       "    .dataframe tbody tr th {\n",
       "        vertical-align: top;\n",
       "    }\n",
       "\n",
       "    .dataframe thead th {\n",
       "        text-align: right;\n",
       "    }\n",
       "</style>\n",
       "<table border=\"1\" class=\"dataframe\">\n",
       "  <thead>\n",
       "    <tr style=\"text-align: right;\">\n",
       "      <th></th>\n",
       "      <th>p1</th>\n",
       "      <th>p2</th>\n",
       "    </tr>\n",
       "  </thead>\n",
       "  <tbody>\n",
       "    <tr>\n",
       "      <th>2015-09-24</th>\n",
       "      <td>0.341313</td>\n",
       "      <td>0.624755</td>\n",
       "    </tr>\n",
       "    <tr>\n",
       "      <th>2015-09-25</th>\n",
       "      <td>0.227324</td>\n",
       "      <td>0.616131</td>\n",
       "    </tr>\n",
       "    <tr>\n",
       "      <th>2015-09-26</th>\n",
       "      <td>0.256188</td>\n",
       "      <td>0.530964</td>\n",
       "    </tr>\n",
       "    <tr>\n",
       "      <th>2015-09-27</th>\n",
       "      <td>0.509888</td>\n",
       "      <td>0.521664</td>\n",
       "    </tr>\n",
       "  </tbody>\n",
       "</table>\n",
       "</div>"
      ],
      "text/plain": [
       "                  p1        p2\n",
       "2015-09-24  0.341313  0.624755\n",
       "2015-09-25  0.227324  0.616131\n",
       "2015-09-26  0.256188  0.530964\n",
       "2015-09-27  0.509888  0.521664"
      ]
     },
     "execution_count": 219,
     "metadata": {},
     "output_type": "execute_result"
    }
   ],
   "source": [
    "df.tail(4)"
   ]
  },
  {
   "cell_type": "code",
   "execution_count": 220,
   "metadata": {},
   "outputs": [
    {
     "data": {
      "text/html": [
       "<div>\n",
       "<style scoped>\n",
       "    .dataframe tbody tr th:only-of-type {\n",
       "        vertical-align: middle;\n",
       "    }\n",
       "\n",
       "    .dataframe tbody tr th {\n",
       "        vertical-align: top;\n",
       "    }\n",
       "\n",
       "    .dataframe thead th {\n",
       "        text-align: right;\n",
       "    }\n",
       "</style>\n",
       "<table border=\"1\" class=\"dataframe\">\n",
       "  <thead>\n",
       "    <tr style=\"text-align: right;\">\n",
       "      <th></th>\n",
       "      <th>p1</th>\n",
       "      <th>p2</th>\n",
       "    </tr>\n",
       "  </thead>\n",
       "  <tbody>\n",
       "    <tr>\n",
       "      <th>count</th>\n",
       "      <td>1000.000000</td>\n",
       "      <td>1000.000000</td>\n",
       "    </tr>\n",
       "    <tr>\n",
       "      <th>mean</th>\n",
       "      <td>0.514427</td>\n",
       "      <td>0.912449</td>\n",
       "    </tr>\n",
       "    <tr>\n",
       "      <th>std</th>\n",
       "      <td>0.284701</td>\n",
       "      <td>0.368928</td>\n",
       "    </tr>\n",
       "    <tr>\n",
       "      <th>min</th>\n",
       "      <td>0.000363</td>\n",
       "      <td>0.030845</td>\n",
       "    </tr>\n",
       "    <tr>\n",
       "      <th>25%</th>\n",
       "      <td>0.270497</td>\n",
       "      <td>0.646275</td>\n",
       "    </tr>\n",
       "    <tr>\n",
       "      <th>50%</th>\n",
       "      <td>0.519797</td>\n",
       "      <td>0.927722</td>\n",
       "    </tr>\n",
       "    <tr>\n",
       "      <th>75%</th>\n",
       "      <td>0.755661</td>\n",
       "      <td>1.178257</td>\n",
       "    </tr>\n",
       "    <tr>\n",
       "      <th>max</th>\n",
       "      <td>0.999239</td>\n",
       "      <td>1.780175</td>\n",
       "    </tr>\n",
       "  </tbody>\n",
       "</table>\n",
       "</div>"
      ],
      "text/plain": [
       "                p1           p2\n",
       "count  1000.000000  1000.000000\n",
       "mean      0.514427     0.912449\n",
       "std       0.284701     0.368928\n",
       "min       0.000363     0.030845\n",
       "25%       0.270497     0.646275\n",
       "50%       0.519797     0.927722\n",
       "75%       0.755661     1.178257\n",
       "max       0.999239     1.780175"
      ]
     },
     "execution_count": 220,
     "metadata": {},
     "output_type": "execute_result"
    }
   ],
   "source": [
    "df.describe()"
   ]
  },
  {
   "cell_type": "code",
   "execution_count": 221,
   "metadata": {},
   "outputs": [
    {
     "data": {
      "text/html": [
       "<div>\n",
       "<style scoped>\n",
       "    .dataframe tbody tr th:only-of-type {\n",
       "        vertical-align: middle;\n",
       "    }\n",
       "\n",
       "    .dataframe tbody tr th {\n",
       "        vertical-align: top;\n",
       "    }\n",
       "\n",
       "    .dataframe thead th {\n",
       "        text-align: right;\n",
       "    }\n",
       "</style>\n",
       "<table border=\"1\" class=\"dataframe\">\n",
       "  <thead>\n",
       "    <tr style=\"text-align: right;\">\n",
       "      <th></th>\n",
       "      <th>2013-01-01</th>\n",
       "      <th>2013-01-02</th>\n",
       "      <th>2013-01-03</th>\n",
       "      <th>2013-01-04</th>\n",
       "      <th>2013-01-05</th>\n",
       "      <th>2013-01-06</th>\n",
       "      <th>2013-01-07</th>\n",
       "      <th>2013-01-08</th>\n",
       "      <th>2013-01-09</th>\n",
       "      <th>2013-01-10</th>\n",
       "      <th>...</th>\n",
       "      <th>2015-09-18</th>\n",
       "      <th>2015-09-19</th>\n",
       "      <th>2015-09-20</th>\n",
       "      <th>2015-09-21</th>\n",
       "      <th>2015-09-22</th>\n",
       "      <th>2015-09-23</th>\n",
       "      <th>2015-09-24</th>\n",
       "      <th>2015-09-25</th>\n",
       "      <th>2015-09-26</th>\n",
       "      <th>2015-09-27</th>\n",
       "    </tr>\n",
       "  </thead>\n",
       "  <tbody>\n",
       "    <tr>\n",
       "      <th>p1</th>\n",
       "      <td>0.388888</td>\n",
       "      <td>0.314820</td>\n",
       "      <td>0.209659</td>\n",
       "      <td>0.409143</td>\n",
       "      <td>0.215762</td>\n",
       "      <td>0.796643</td>\n",
       "      <td>0.837276</td>\n",
       "      <td>0.939447</td>\n",
       "      <td>0.223407</td>\n",
       "      <td>0.119369</td>\n",
       "      <td>...</td>\n",
       "      <td>0.238174</td>\n",
       "      <td>0.387631</td>\n",
       "      <td>0.978259</td>\n",
       "      <td>0.410745</td>\n",
       "      <td>0.691575</td>\n",
       "      <td>0.270227</td>\n",
       "      <td>0.341313</td>\n",
       "      <td>0.227324</td>\n",
       "      <td>0.256188</td>\n",
       "      <td>0.509888</td>\n",
       "    </tr>\n",
       "    <tr>\n",
       "      <th>p2</th>\n",
       "      <td>0.430945</td>\n",
       "      <td>0.328444</td>\n",
       "      <td>0.696053</td>\n",
       "      <td>1.037244</td>\n",
       "      <td>0.976529</td>\n",
       "      <td>1.042608</td>\n",
       "      <td>1.030903</td>\n",
       "      <td>1.109756</td>\n",
       "      <td>0.562558</td>\n",
       "      <td>0.801115</td>\n",
       "      <td>...</td>\n",
       "      <td>0.389864</td>\n",
       "      <td>0.443008</td>\n",
       "      <td>1.339177</td>\n",
       "      <td>0.984771</td>\n",
       "      <td>0.951709</td>\n",
       "      <td>0.892185</td>\n",
       "      <td>0.624755</td>\n",
       "      <td>0.616131</td>\n",
       "      <td>0.530964</td>\n",
       "      <td>0.521664</td>\n",
       "    </tr>\n",
       "  </tbody>\n",
       "</table>\n",
       "<p>2 rows × 1000 columns</p>\n",
       "</div>"
      ],
      "text/plain": [
       "    2013-01-01  2013-01-02  2013-01-03  2013-01-04  2013-01-05  2013-01-06  \\\n",
       "p1    0.388888    0.314820    0.209659    0.409143    0.215762    0.796643   \n",
       "p2    0.430945    0.328444    0.696053    1.037244    0.976529    1.042608   \n",
       "\n",
       "    2013-01-07  2013-01-08  2013-01-09  2013-01-10  ...  2015-09-18  \\\n",
       "p1    0.837276    0.939447    0.223407    0.119369  ...    0.238174   \n",
       "p2    1.030903    1.109756    0.562558    0.801115  ...    0.389864   \n",
       "\n",
       "    2015-09-19  2015-09-20  2015-09-21  2015-09-22  2015-09-23  2015-09-24  \\\n",
       "p1    0.387631    0.978259    0.410745    0.691575    0.270227    0.341313   \n",
       "p2    0.443008    1.339177    0.984771    0.951709    0.892185    0.624755   \n",
       "\n",
       "    2015-09-25  2015-09-26  2015-09-27  \n",
       "p1    0.227324    0.256188    0.509888  \n",
       "p2    0.616131    0.530964    0.521664  \n",
       "\n",
       "[2 rows x 1000 columns]"
      ]
     },
     "execution_count": 221,
     "metadata": {},
     "output_type": "execute_result"
    }
   ],
   "source": [
    "df.T"
   ]
  },
  {
   "cell_type": "markdown",
   "metadata": {},
   "source": [
    "#### 选择数据"
   ]
  },
  {
   "cell_type": "code",
   "execution_count": 222,
   "metadata": {},
   "outputs": [
    {
     "data": {
      "text/plain": [
       "2013-01-01    0.388888\n",
       "2013-01-02    0.314820\n",
       "2013-01-03    0.209659\n",
       "2013-01-04    0.409143\n",
       "2013-01-05    0.215762\n",
       "                ...   \n",
       "2015-09-23    0.270227\n",
       "2015-09-24    0.341313\n",
       "2015-09-25    0.227324\n",
       "2015-09-26    0.256188\n",
       "2015-09-27    0.509888\n",
       "Freq: D, Name: p1, Length: 1000, dtype: float64"
      ]
     },
     "execution_count": 222,
     "metadata": {},
     "output_type": "execute_result"
    }
   ],
   "source": [
    "#选择一列\n",
    "df['p1'] # 或者 df.p1"
   ]
  },
  {
   "cell_type": "code",
   "execution_count": 223,
   "metadata": {},
   "outputs": [
    {
     "data": {
      "text/html": [
       "<div>\n",
       "<style scoped>\n",
       "    .dataframe tbody tr th:only-of-type {\n",
       "        vertical-align: middle;\n",
       "    }\n",
       "\n",
       "    .dataframe tbody tr th {\n",
       "        vertical-align: top;\n",
       "    }\n",
       "\n",
       "    .dataframe thead th {\n",
       "        text-align: right;\n",
       "    }\n",
       "</style>\n",
       "<table border=\"1\" class=\"dataframe\">\n",
       "  <thead>\n",
       "    <tr style=\"text-align: right;\">\n",
       "      <th></th>\n",
       "      <th>p1</th>\n",
       "      <th>p2</th>\n",
       "    </tr>\n",
       "  </thead>\n",
       "  <tbody>\n",
       "    <tr>\n",
       "      <th>2013-01-03</th>\n",
       "      <td>0.209659</td>\n",
       "      <td>0.696053</td>\n",
       "    </tr>\n",
       "    <tr>\n",
       "      <th>2013-01-04</th>\n",
       "      <td>0.409143</td>\n",
       "      <td>1.037244</td>\n",
       "    </tr>\n",
       "  </tbody>\n",
       "</table>\n",
       "</div>"
      ],
      "text/plain": [
       "                  p1        p2\n",
       "2013-01-03  0.209659  0.696053\n",
       "2013-01-04  0.409143  1.037244"
      ]
     },
     "execution_count": 223,
     "metadata": {},
     "output_type": "execute_result"
    }
   ],
   "source": [
    "#按index的位置选择行\n",
    "df[2:4]"
   ]
  },
  {
   "cell_type": "code",
   "execution_count": 224,
   "metadata": {},
   "outputs": [
    {
     "data": {
      "text/html": [
       "<div>\n",
       "<style scoped>\n",
       "    .dataframe tbody tr th:only-of-type {\n",
       "        vertical-align: middle;\n",
       "    }\n",
       "\n",
       "    .dataframe tbody tr th {\n",
       "        vertical-align: top;\n",
       "    }\n",
       "\n",
       "    .dataframe thead th {\n",
       "        text-align: right;\n",
       "    }\n",
       "</style>\n",
       "<table border=\"1\" class=\"dataframe\">\n",
       "  <thead>\n",
       "    <tr style=\"text-align: right;\">\n",
       "      <th></th>\n",
       "      <th>p1</th>\n",
       "      <th>p2</th>\n",
       "    </tr>\n",
       "  </thead>\n",
       "  <tbody>\n",
       "    <tr>\n",
       "      <th>2014-01-01</th>\n",
       "      <td>0.707685</td>\n",
       "      <td>0.922387</td>\n",
       "    </tr>\n",
       "    <tr>\n",
       "      <th>2014-01-02</th>\n",
       "      <td>0.922905</td>\n",
       "      <td>0.969654</td>\n",
       "    </tr>\n",
       "    <tr>\n",
       "      <th>2014-01-03</th>\n",
       "      <td>0.301629</td>\n",
       "      <td>0.548678</td>\n",
       "    </tr>\n",
       "    <tr>\n",
       "      <th>2014-01-04</th>\n",
       "      <td>0.762915</td>\n",
       "      <td>1.308432</td>\n",
       "    </tr>\n",
       "    <tr>\n",
       "      <th>2014-01-05</th>\n",
       "      <td>0.474732</td>\n",
       "      <td>1.117809</td>\n",
       "    </tr>\n",
       "    <tr>\n",
       "      <th>...</th>\n",
       "      <td>...</td>\n",
       "      <td>...</td>\n",
       "    </tr>\n",
       "    <tr>\n",
       "      <th>2014-12-27</th>\n",
       "      <td>0.732984</td>\n",
       "      <td>1.310573</td>\n",
       "    </tr>\n",
       "    <tr>\n",
       "      <th>2014-12-28</th>\n",
       "      <td>0.403634</td>\n",
       "      <td>0.704440</td>\n",
       "    </tr>\n",
       "    <tr>\n",
       "      <th>2014-12-29</th>\n",
       "      <td>0.692682</td>\n",
       "      <td>1.187807</td>\n",
       "    </tr>\n",
       "    <tr>\n",
       "      <th>2014-12-30</th>\n",
       "      <td>0.754678</td>\n",
       "      <td>0.818283</td>\n",
       "    </tr>\n",
       "    <tr>\n",
       "      <th>2014-12-31</th>\n",
       "      <td>0.148736</td>\n",
       "      <td>0.564095</td>\n",
       "    </tr>\n",
       "  </tbody>\n",
       "</table>\n",
       "<p>365 rows × 2 columns</p>\n",
       "</div>"
      ],
      "text/plain": [
       "                  p1        p2\n",
       "2014-01-01  0.707685  0.922387\n",
       "2014-01-02  0.922905  0.969654\n",
       "2014-01-03  0.301629  0.548678\n",
       "2014-01-04  0.762915  1.308432\n",
       "2014-01-05  0.474732  1.117809\n",
       "...              ...       ...\n",
       "2014-12-27  0.732984  1.310573\n",
       "2014-12-28  0.403634  0.704440\n",
       "2014-12-29  0.692682  1.187807\n",
       "2014-12-30  0.754678  0.818283\n",
       "2014-12-31  0.148736  0.564095\n",
       "\n",
       "[365 rows x 2 columns]"
      ]
     },
     "execution_count": 224,
     "metadata": {},
     "output_type": "execute_result"
    }
   ],
   "source": [
    "#按日期选择\n",
    "df[\"20140101\":\"20141231\"]"
   ]
  },
  {
   "cell_type": "code",
   "execution_count": 225,
   "metadata": {},
   "outputs": [
    {
     "data": {
      "text/plain": [
       "p1    0.613965\n",
       "p2    1.212058\n",
       "Name: 2015-01-01 00:00:00, dtype: float64"
      ]
     },
     "execution_count": 225,
     "metadata": {},
     "output_type": "execute_result"
    }
   ],
   "source": [
    "#按日期选择某一行\n",
    "df.loc[\"20150101\"] #注意df[\"20150101\"]是不对的"
   ]
  },
  {
   "cell_type": "code",
   "execution_count": 226,
   "metadata": {},
   "outputs": [
    {
     "data": {
      "text/plain": [
       "p1    0.176855\n",
       "p2    0.400348\n",
       "Name: 2013-04-11 00:00:00, dtype: float64"
      ]
     },
     "execution_count": 226,
     "metadata": {},
     "output_type": "execute_result"
    }
   ],
   "source": [
    "#按位置选择某一行\n",
    "df.iloc[100]"
   ]
  },
  {
   "cell_type": "code",
   "execution_count": 227,
   "metadata": {},
   "outputs": [
    {
     "data": {
      "text/html": [
       "<div>\n",
       "<style scoped>\n",
       "    .dataframe tbody tr th:only-of-type {\n",
       "        vertical-align: middle;\n",
       "    }\n",
       "\n",
       "    .dataframe tbody tr th {\n",
       "        vertical-align: top;\n",
       "    }\n",
       "\n",
       "    .dataframe thead th {\n",
       "        text-align: right;\n",
       "    }\n",
       "</style>\n",
       "<table border=\"1\" class=\"dataframe\">\n",
       "  <thead>\n",
       "    <tr style=\"text-align: right;\">\n",
       "      <th></th>\n",
       "      <th>p1</th>\n",
       "      <th>p2</th>\n",
       "    </tr>\n",
       "  </thead>\n",
       "  <tbody>\n",
       "    <tr>\n",
       "      <th>2013-01-06</th>\n",
       "      <td>0.796643</td>\n",
       "      <td>1.042608</td>\n",
       "    </tr>\n",
       "    <tr>\n",
       "      <th>2013-01-07</th>\n",
       "      <td>0.837276</td>\n",
       "      <td>1.030903</td>\n",
       "    </tr>\n",
       "    <tr>\n",
       "      <th>2013-01-08</th>\n",
       "      <td>0.939447</td>\n",
       "      <td>1.109756</td>\n",
       "    </tr>\n",
       "    <tr>\n",
       "      <th>2013-01-11</th>\n",
       "      <td>0.942130</td>\n",
       "      <td>1.731720</td>\n",
       "    </tr>\n",
       "    <tr>\n",
       "      <th>2013-01-12</th>\n",
       "      <td>0.833293</td>\n",
       "      <td>1.166677</td>\n",
       "    </tr>\n",
       "    <tr>\n",
       "      <th>...</th>\n",
       "      <td>...</td>\n",
       "      <td>...</td>\n",
       "    </tr>\n",
       "    <tr>\n",
       "      <th>2015-09-14</th>\n",
       "      <td>0.921645</td>\n",
       "      <td>1.026233</td>\n",
       "    </tr>\n",
       "    <tr>\n",
       "      <th>2015-09-17</th>\n",
       "      <td>0.967471</td>\n",
       "      <td>1.589671</td>\n",
       "    </tr>\n",
       "    <tr>\n",
       "      <th>2015-09-20</th>\n",
       "      <td>0.978259</td>\n",
       "      <td>1.339177</td>\n",
       "    </tr>\n",
       "    <tr>\n",
       "      <th>2015-09-22</th>\n",
       "      <td>0.691575</td>\n",
       "      <td>0.951709</td>\n",
       "    </tr>\n",
       "    <tr>\n",
       "      <th>2015-09-27</th>\n",
       "      <td>0.509888</td>\n",
       "      <td>0.521664</td>\n",
       "    </tr>\n",
       "  </tbody>\n",
       "</table>\n",
       "<p>520 rows × 2 columns</p>\n",
       "</div>"
      ],
      "text/plain": [
       "                  p1        p2\n",
       "2013-01-06  0.796643  1.042608\n",
       "2013-01-07  0.837276  1.030903\n",
       "2013-01-08  0.939447  1.109756\n",
       "2013-01-11  0.942130  1.731720\n",
       "2013-01-12  0.833293  1.166677\n",
       "...              ...       ...\n",
       "2015-09-14  0.921645  1.026233\n",
       "2015-09-17  0.967471  1.589671\n",
       "2015-09-20  0.978259  1.339177\n",
       "2015-09-22  0.691575  0.951709\n",
       "2015-09-27  0.509888  0.521664\n",
       "\n",
       "[520 rows x 2 columns]"
      ]
     },
     "execution_count": 227,
     "metadata": {},
     "output_type": "execute_result"
    }
   ],
   "source": [
    "#条件选择\n",
    "df[df['p1']>0.5]"
   ]
  },
  {
   "cell_type": "code",
   "execution_count": 243,
   "metadata": {},
   "outputs": [
    {
     "data": {
      "text/html": [
       "<div>\n",
       "<style scoped>\n",
       "    .dataframe tbody tr th:only-of-type {\n",
       "        vertical-align: middle;\n",
       "    }\n",
       "\n",
       "    .dataframe tbody tr th {\n",
       "        vertical-align: top;\n",
       "    }\n",
       "\n",
       "    .dataframe thead th {\n",
       "        text-align: right;\n",
       "    }\n",
       "</style>\n",
       "<table border=\"1\" class=\"dataframe\">\n",
       "  <thead>\n",
       "    <tr style=\"text-align: right;\">\n",
       "      <th></th>\n",
       "      <th>p1</th>\n",
       "      <th>p2</th>\n",
       "      <th>date</th>\n",
       "      <th>dayofweek</th>\n",
       "    </tr>\n",
       "  </thead>\n",
       "  <tbody>\n",
       "    <tr>\n",
       "      <th>2013-03-06</th>\n",
       "      <td>0.539620</td>\n",
       "      <td>0.570953</td>\n",
       "      <td>2013-03-06</td>\n",
       "      <td>2</td>\n",
       "    </tr>\n",
       "    <tr>\n",
       "      <th>2013-03-29</th>\n",
       "      <td>0.518086</td>\n",
       "      <td>0.580486</td>\n",
       "      <td>2013-03-29</td>\n",
       "      <td>4</td>\n",
       "    </tr>\n",
       "    <tr>\n",
       "      <th>2014-02-22</th>\n",
       "      <td>0.531342</td>\n",
       "      <td>0.595906</td>\n",
       "      <td>2014-02-22</td>\n",
       "      <td>5</td>\n",
       "    </tr>\n",
       "    <tr>\n",
       "      <th>2015-04-13</th>\n",
       "      <td>0.514490</td>\n",
       "      <td>0.564929</td>\n",
       "      <td>2015-04-13</td>\n",
       "      <td>0</td>\n",
       "    </tr>\n",
       "    <tr>\n",
       "      <th>2015-09-27</th>\n",
       "      <td>0.509888</td>\n",
       "      <td>0.521664</td>\n",
       "      <td>2015-09-27</td>\n",
       "      <td>6</td>\n",
       "    </tr>\n",
       "  </tbody>\n",
       "</table>\n",
       "</div>"
      ],
      "text/plain": [
       "                  p1        p2       date  dayofweek\n",
       "2013-03-06  0.539620  0.570953 2013-03-06          2\n",
       "2013-03-29  0.518086  0.580486 2013-03-29          4\n",
       "2014-02-22  0.531342  0.595906 2014-02-22          5\n",
       "2015-04-13  0.514490  0.564929 2015-04-13          0\n",
       "2015-09-27  0.509888  0.521664 2015-09-27          6"
      ]
     },
     "execution_count": 243,
     "metadata": {},
     "output_type": "execute_result"
    }
   ],
   "source": [
    "#更多组合条件\n",
    "c1 = df['p1']>0.5\n",
    "c2 = df['p2']<0.6\n",
    "\n",
    "df[c1&c2]"
   ]
  },
  {
   "cell_type": "markdown",
   "metadata": {},
   "source": [
    "#### 设置新列"
   ]
  },
  {
   "cell_type": "code",
   "execution_count": 229,
   "metadata": {},
   "outputs": [
    {
     "data": {
      "text/html": [
       "<div>\n",
       "<style scoped>\n",
       "    .dataframe tbody tr th:only-of-type {\n",
       "        vertical-align: middle;\n",
       "    }\n",
       "\n",
       "    .dataframe tbody tr th {\n",
       "        vertical-align: top;\n",
       "    }\n",
       "\n",
       "    .dataframe thead th {\n",
       "        text-align: right;\n",
       "    }\n",
       "</style>\n",
       "<table border=\"1\" class=\"dataframe\">\n",
       "  <thead>\n",
       "    <tr style=\"text-align: right;\">\n",
       "      <th></th>\n",
       "      <th>p1</th>\n",
       "      <th>p2</th>\n",
       "      <th>date</th>\n",
       "      <th>dayofweek</th>\n",
       "    </tr>\n",
       "  </thead>\n",
       "  <tbody>\n",
       "    <tr>\n",
       "      <th>2013-01-01</th>\n",
       "      <td>0.388888</td>\n",
       "      <td>0.430945</td>\n",
       "      <td>2013-01-01</td>\n",
       "      <td>1</td>\n",
       "    </tr>\n",
       "    <tr>\n",
       "      <th>2013-01-02</th>\n",
       "      <td>0.314820</td>\n",
       "      <td>0.328444</td>\n",
       "      <td>2013-01-02</td>\n",
       "      <td>2</td>\n",
       "    </tr>\n",
       "    <tr>\n",
       "      <th>2013-01-03</th>\n",
       "      <td>0.209659</td>\n",
       "      <td>0.696053</td>\n",
       "      <td>2013-01-03</td>\n",
       "      <td>3</td>\n",
       "    </tr>\n",
       "    <tr>\n",
       "      <th>2013-01-04</th>\n",
       "      <td>0.409143</td>\n",
       "      <td>1.037244</td>\n",
       "      <td>2013-01-04</td>\n",
       "      <td>4</td>\n",
       "    </tr>\n",
       "    <tr>\n",
       "      <th>2013-01-05</th>\n",
       "      <td>0.215762</td>\n",
       "      <td>0.976529</td>\n",
       "      <td>2013-01-05</td>\n",
       "      <td>5</td>\n",
       "    </tr>\n",
       "  </tbody>\n",
       "</table>\n",
       "</div>"
      ],
      "text/plain": [
       "                  p1        p2       date  dayofweek\n",
       "2013-01-01  0.388888  0.430945 2013-01-01          1\n",
       "2013-01-02  0.314820  0.328444 2013-01-02          2\n",
       "2013-01-03  0.209659  0.696053 2013-01-03          3\n",
       "2013-01-04  0.409143  1.037244 2013-01-04          4\n",
       "2013-01-05  0.215762  0.976529 2013-01-05          5"
      ]
     },
     "execution_count": 229,
     "metadata": {},
     "output_type": "execute_result"
    }
   ],
   "source": [
    "df['date'] = df.index\n",
    "df['dayofweek'] = df['date'].dt.dayofweek\n",
    "df.head()"
   ]
  },
  {
   "cell_type": "markdown",
   "metadata": {},
   "source": [
    "#### apply"
   ]
  },
  {
   "cell_type": "code",
   "execution_count": 230,
   "metadata": {},
   "outputs": [
    {
     "data": {
      "text/plain": [
       "p1    0.998876\n",
       "p2    1.749330\n",
       "dtype: float64"
      ]
     },
     "execution_count": 230,
     "metadata": {},
     "output_type": "execute_result"
    }
   ],
   "source": [
    "df[['p1','p2']].apply(lambda x:x.max()-x.min())"
   ]
  },
  {
   "cell_type": "markdown",
   "metadata": {},
   "source": [
    "#### Grouping"
   ]
  },
  {
   "cell_type": "code",
   "execution_count": 231,
   "metadata": {},
   "outputs": [
    {
     "data": {
      "text/html": [
       "<div>\n",
       "<style scoped>\n",
       "    .dataframe tbody tr th:only-of-type {\n",
       "        vertical-align: middle;\n",
       "    }\n",
       "\n",
       "    .dataframe tbody tr th {\n",
       "        vertical-align: top;\n",
       "    }\n",
       "\n",
       "    .dataframe thead th {\n",
       "        text-align: right;\n",
       "    }\n",
       "</style>\n",
       "<table border=\"1\" class=\"dataframe\">\n",
       "  <thead>\n",
       "    <tr style=\"text-align: right;\">\n",
       "      <th></th>\n",
       "      <th>p1</th>\n",
       "      <th>p2</th>\n",
       "      <th>date</th>\n",
       "      <th>dayofweek</th>\n",
       "    </tr>\n",
       "  </thead>\n",
       "  <tbody>\n",
       "    <tr>\n",
       "      <th>2013-01-01</th>\n",
       "      <td>0.388888</td>\n",
       "      <td>0.430945</td>\n",
       "      <td>2013-01-01</td>\n",
       "      <td>1</td>\n",
       "    </tr>\n",
       "    <tr>\n",
       "      <th>2013-01-02</th>\n",
       "      <td>0.314820</td>\n",
       "      <td>0.328444</td>\n",
       "      <td>2013-01-02</td>\n",
       "      <td>2</td>\n",
       "    </tr>\n",
       "    <tr>\n",
       "      <th>2013-01-03</th>\n",
       "      <td>0.209659</td>\n",
       "      <td>0.696053</td>\n",
       "      <td>2013-01-03</td>\n",
       "      <td>3</td>\n",
       "    </tr>\n",
       "    <tr>\n",
       "      <th>2013-01-04</th>\n",
       "      <td>0.409143</td>\n",
       "      <td>1.037244</td>\n",
       "      <td>2013-01-04</td>\n",
       "      <td>4</td>\n",
       "    </tr>\n",
       "    <tr>\n",
       "      <th>2013-01-05</th>\n",
       "      <td>0.215762</td>\n",
       "      <td>0.976529</td>\n",
       "      <td>2013-01-05</td>\n",
       "      <td>5</td>\n",
       "    </tr>\n",
       "  </tbody>\n",
       "</table>\n",
       "</div>"
      ],
      "text/plain": [
       "                  p1        p2       date  dayofweek\n",
       "2013-01-01  0.388888  0.430945 2013-01-01          1\n",
       "2013-01-02  0.314820  0.328444 2013-01-02          2\n",
       "2013-01-03  0.209659  0.696053 2013-01-03          3\n",
       "2013-01-04  0.409143  1.037244 2013-01-04          4\n",
       "2013-01-05  0.215762  0.976529 2013-01-05          5"
      ]
     },
     "execution_count": 231,
     "metadata": {},
     "output_type": "execute_result"
    }
   ],
   "source": [
    "df.head()"
   ]
  },
  {
   "cell_type": "code",
   "execution_count": 232,
   "metadata": {},
   "outputs": [
    {
     "data": {
      "text/html": [
       "<div>\n",
       "<style scoped>\n",
       "    .dataframe tbody tr th:only-of-type {\n",
       "        vertical-align: middle;\n",
       "    }\n",
       "\n",
       "    .dataframe tbody tr th {\n",
       "        vertical-align: top;\n",
       "    }\n",
       "\n",
       "    .dataframe thead th {\n",
       "        text-align: right;\n",
       "    }\n",
       "</style>\n",
       "<table border=\"1\" class=\"dataframe\">\n",
       "  <thead>\n",
       "    <tr style=\"text-align: right;\">\n",
       "      <th></th>\n",
       "      <th>p1</th>\n",
       "      <th>p2</th>\n",
       "    </tr>\n",
       "    <tr>\n",
       "      <th>dayofweek</th>\n",
       "      <th></th>\n",
       "      <th></th>\n",
       "    </tr>\n",
       "  </thead>\n",
       "  <tbody>\n",
       "    <tr>\n",
       "      <th>0</th>\n",
       "      <td>0.544312</td>\n",
       "      <td>0.946921</td>\n",
       "    </tr>\n",
       "    <tr>\n",
       "      <th>1</th>\n",
       "      <td>0.521608</td>\n",
       "      <td>0.924797</td>\n",
       "    </tr>\n",
       "    <tr>\n",
       "      <th>2</th>\n",
       "      <td>0.505980</td>\n",
       "      <td>0.905582</td>\n",
       "    </tr>\n",
       "    <tr>\n",
       "      <th>3</th>\n",
       "      <td>0.522073</td>\n",
       "      <td>0.935083</td>\n",
       "    </tr>\n",
       "    <tr>\n",
       "      <th>4</th>\n",
       "      <td>0.523512</td>\n",
       "      <td>0.913306</td>\n",
       "    </tr>\n",
       "    <tr>\n",
       "      <th>5</th>\n",
       "      <td>0.506793</td>\n",
       "      <td>0.913501</td>\n",
       "    </tr>\n",
       "    <tr>\n",
       "      <th>6</th>\n",
       "      <td>0.476918</td>\n",
       "      <td>0.848196</td>\n",
       "    </tr>\n",
       "  </tbody>\n",
       "</table>\n",
       "</div>"
      ],
      "text/plain": [
       "                 p1        p2\n",
       "dayofweek                    \n",
       "0          0.544312  0.946921\n",
       "1          0.521608  0.924797\n",
       "2          0.505980  0.905582\n",
       "3          0.522073  0.935083\n",
       "4          0.523512  0.913306\n",
       "5          0.506793  0.913501\n",
       "6          0.476918  0.848196"
      ]
     },
     "execution_count": 232,
     "metadata": {},
     "output_type": "execute_result"
    }
   ],
   "source": [
    "df.groupby(\"dayofweek\").mean()"
   ]
  },
  {
   "cell_type": "markdown",
   "metadata": {},
   "source": [
    "#### 时间序列"
   ]
  },
  {
   "cell_type": "code",
   "execution_count": 233,
   "metadata": {},
   "outputs": [
    {
     "data": {
      "text/html": [
       "<div>\n",
       "<style scoped>\n",
       "    .dataframe tbody tr th:only-of-type {\n",
       "        vertical-align: middle;\n",
       "    }\n",
       "\n",
       "    .dataframe tbody tr th {\n",
       "        vertical-align: top;\n",
       "    }\n",
       "\n",
       "    .dataframe thead th {\n",
       "        text-align: right;\n",
       "    }\n",
       "</style>\n",
       "<table border=\"1\" class=\"dataframe\">\n",
       "  <thead>\n",
       "    <tr style=\"text-align: right;\">\n",
       "      <th></th>\n",
       "      <th>p1</th>\n",
       "      <th>p2</th>\n",
       "      <th>dayofweek</th>\n",
       "    </tr>\n",
       "  </thead>\n",
       "  <tbody>\n",
       "    <tr>\n",
       "      <th>2013-01-01</th>\n",
       "      <td>0.453170</td>\n",
       "      <td>0.791818</td>\n",
       "      <td>3.0</td>\n",
       "    </tr>\n",
       "    <tr>\n",
       "      <th>2013-01-08</th>\n",
       "      <td>0.557010</td>\n",
       "      <td>0.949079</td>\n",
       "      <td>3.0</td>\n",
       "    </tr>\n",
       "    <tr>\n",
       "      <th>2013-01-15</th>\n",
       "      <td>0.458734</td>\n",
       "      <td>0.823684</td>\n",
       "      <td>3.0</td>\n",
       "    </tr>\n",
       "    <tr>\n",
       "      <th>2013-01-22</th>\n",
       "      <td>0.494255</td>\n",
       "      <td>0.892372</td>\n",
       "      <td>3.0</td>\n",
       "    </tr>\n",
       "    <tr>\n",
       "      <th>2013-01-29</th>\n",
       "      <td>0.622068</td>\n",
       "      <td>0.922625</td>\n",
       "      <td>3.0</td>\n",
       "    </tr>\n",
       "    <tr>\n",
       "      <th>...</th>\n",
       "      <td>...</td>\n",
       "      <td>...</td>\n",
       "      <td>...</td>\n",
       "    </tr>\n",
       "    <tr>\n",
       "      <th>2015-08-25</th>\n",
       "      <td>0.310626</td>\n",
       "      <td>0.545881</td>\n",
       "      <td>3.0</td>\n",
       "    </tr>\n",
       "    <tr>\n",
       "      <th>2015-09-01</th>\n",
       "      <td>0.577762</td>\n",
       "      <td>1.005156</td>\n",
       "      <td>3.0</td>\n",
       "    </tr>\n",
       "    <tr>\n",
       "      <th>2015-09-08</th>\n",
       "      <td>0.642288</td>\n",
       "      <td>0.949209</td>\n",
       "      <td>3.0</td>\n",
       "    </tr>\n",
       "    <tr>\n",
       "      <th>2015-09-15</th>\n",
       "      <td>0.502756</td>\n",
       "      <td>0.938731</td>\n",
       "      <td>3.0</td>\n",
       "    </tr>\n",
       "    <tr>\n",
       "      <th>2015-09-22</th>\n",
       "      <td>0.382753</td>\n",
       "      <td>0.689568</td>\n",
       "      <td>3.5</td>\n",
       "    </tr>\n",
       "  </tbody>\n",
       "</table>\n",
       "<p>143 rows × 3 columns</p>\n",
       "</div>"
      ],
      "text/plain": [
       "                  p1        p2  dayofweek\n",
       "2013-01-01  0.453170  0.791818        3.0\n",
       "2013-01-08  0.557010  0.949079        3.0\n",
       "2013-01-15  0.458734  0.823684        3.0\n",
       "2013-01-22  0.494255  0.892372        3.0\n",
       "2013-01-29  0.622068  0.922625        3.0\n",
       "...              ...       ...        ...\n",
       "2015-08-25  0.310626  0.545881        3.0\n",
       "2015-09-01  0.577762  1.005156        3.0\n",
       "2015-09-08  0.642288  0.949209        3.0\n",
       "2015-09-15  0.502756  0.938731        3.0\n",
       "2015-09-22  0.382753  0.689568        3.5\n",
       "\n",
       "[143 rows x 3 columns]"
      ]
     },
     "execution_count": 233,
     "metadata": {},
     "output_type": "execute_result"
    }
   ],
   "source": [
    "df.resample(\"7D\").mean()"
   ]
  },
  {
   "cell_type": "markdown",
   "metadata": {},
   "source": [
    "#### 画图，更直观地感受数据"
   ]
  },
  {
   "cell_type": "code",
   "execution_count": 234,
   "metadata": {},
   "outputs": [],
   "source": [
    "price = df[['p1','p2']]"
   ]
  },
  {
   "cell_type": "code",
   "execution_count": 235,
   "metadata": {},
   "outputs": [
    {
     "data": {
      "text/plain": [
       "<matplotlib.axes._subplots.AxesSubplot at 0x15cda5810>"
      ]
     },
     "execution_count": 235,
     "metadata": {},
     "output_type": "execute_result"
    },
    {
     "data": {
      "image/png": "[encoded data removed]",
      "text/plain": [
       "<Figure size 432x288 with 1 Axes>"
      ]
     },
     "metadata": {
      "needs_background": "light"
     },
     "output_type": "display_data"
    }
   ],
   "source": [
    "price.plot()"
   ]
  },
  {
   "cell_type": "code",
   "execution_count": 241,
   "metadata": {},
   "outputs": [
    {
     "data": {
      "text/plain": [
       "<matplotlib.axes._subplots.AxesSubplot at 0x15d875b50>"
      ]
     },
     "execution_count": 241,
     "metadata": {},
     "output_type": "execute_result"
    },
    {
     "data": {
      "image/png": "[encoded data removed]",
      "text/plain": [
       "<Figure size 432x288 with 1 Axes>"
      ]
     },
     "metadata": {
      "needs_background": "light"
     },
     "output_type": "display_data"
    }
   ],
   "source": [
    "price.resample(\"M\").mean().plot()"
   ]
  },
  {
   "cell_type": "code",
   "execution_count": 237,
   "metadata": {},
   "outputs": [
    {
     "data": {
      "text/plain": [
       "array([[<matplotlib.axes._subplots.AxesSubplot object at 0x15cf04c90>,\n",
       "        <matplotlib.axes._subplots.AxesSubplot object at 0x15a8c2d90>]],\n",
       "      dtype=object)"
      ]
     },
     "execution_count": 237,
     "metadata": {},
     "output_type": "execute_result"
    },
    {
     "data": {
      "image/png": "[encoded data removed]",
      "text/plain": [
       "<Figure size 1296x288 with 2 Axes>"
      ]
     },
     "metadata": {
      "needs_background": "light"
     },
     "output_type": "display_data"
    }
   ],
   "source": [
    "#hist\n",
    "\n",
    "price.hist(figsize=(18,4),bins=100)"
   ]
  },
  {
   "cell_type": "code",
   "execution_count": 238,
   "metadata": {},
   "outputs": [
    {
     "data": {
      "text/plain": [
       "<matplotlib.axes._subplots.AxesSubplot at 0x15b6e0710>"
      ]
     },
     "execution_count": 238,
     "metadata": {},
     "output_type": "execute_result"
    },
    {
     "data": {
      "image/png": "[encoded data removed]",
      "text/plain": [
       "<Figure size 432x288 with 1 Axes>"
      ]
     },
     "metadata": {
      "needs_background": "light"
     },
     "output_type": "display_data"
    }
   ],
   "source": [
    "price.plot.hist(bins=100,stacked=True)"
   ]
  },
  {
   "cell_type": "code",
   "execution_count": 239,
   "metadata": {},
   "outputs": [
    {
     "data": {
      "text/plain": [
       "<matplotlib.axes._subplots.AxesSubplot at 0x15b9028d0>"
      ]
     },
     "execution_count": 239,
     "metadata": {},
     "output_type": "execute_result"
    },
    {
     "data": {
      "image/png": "[encoded data removed]",
      "text/plain": [
       "<Figure size 432x288 with 1 Axes>"
      ]
     },
     "metadata": {
      "needs_background": "light"
     },
     "output_type": "display_data"
    }
   ],
   "source": [
    "price.quantile([i*0.01 for i in range(101)]).plot()"
   ]
  },
  {
   "cell_type": "code",
   "execution_count": 240,
   "metadata": {},
   "outputs": [
    {
     "name": "stdout",
     "output_type": "stream",
     "text": [
      "0.7762282637751755\n"
     ]
    },
    {
     "data": {
      "text/plain": [
       "<matplotlib.axes._subplots.AxesSubplot at 0x15cb740d0>"
      ]
     },
     "execution_count": 240,
     "metadata": {},
     "output_type": "execute_result"
    },
    {
     "data": {
      "image/png": "[encoded data removed]",
      "text/plain": [
       "<Figure size 432x288 with 1 Axes>"
      ]
     },
     "metadata": {
      "needs_background": "light"
     },
     "output_type": "display_data"
    }
   ],
   "source": [
    "print(df['p1'].corr(df['p2']))\n",
    "\n",
    "price.plot.scatter(x=\"p1\",y=\"p2\")"
   ]
  },
  {
   "cell_type": "markdown",
   "metadata": {},
   "source": [
    "# 实践1：用户行为数据分析"
   ]
  },
  {
   "cell_type": "markdown",
   "metadata": {},
   "source": [
    "### 注意：数据中的事件命名为真实产品中使用，id已脱敏，主要用于演示分析方法，结论不具有参考意义"
   ]
  },
  {
   "cell_type": "code",
   "execution_count": 257,
   "metadata": {},
   "outputs": [
    {
     "name": "stdout",
     "output_type": "stream",
     "text": [
      "80000\n"
     ]
    },
    {
     "data": {
      "text/html": [
       "<div>\n",
       "<style scoped>\n",
       "    .dataframe tbody tr th:only-of-type {\n",
       "        vertical-align: middle;\n",
       "    }\n",
       "\n",
       "    .dataframe tbody tr th {\n",
       "        vertical-align: top;\n",
       "    }\n",
       "\n",
       "    .dataframe thead th {\n",
       "        text-align: right;\n",
       "    }\n",
       "</style>\n",
       "<table border=\"1\" class=\"dataframe\">\n",
       "  <thead>\n",
       "    <tr style=\"text-align: right;\">\n",
       "      <th></th>\n",
       "      <th>Unnamed: 0</th>\n",
       "      <th>device_brand</th>\n",
       "      <th>event_name</th>\n",
       "      <th>city</th>\n",
       "      <th>cli_timestamp</th>\n",
       "      <th>id</th>\n",
       "    </tr>\n",
       "  </thead>\n",
       "  <tbody>\n",
       "    <tr>\n",
       "      <th>0</th>\n",
       "      <td>771346</td>\n",
       "      <td>OPPO</td>\n",
       "      <td>PetMall.PayPopup.CK</td>\n",
       "      <td>临沂市</td>\n",
       "      <td>1624889848300</td>\n",
       "      <td>ccc262a4a59ce6f900c4ea079d7892a4ia</td>\n",
       "    </tr>\n",
       "    <tr>\n",
       "      <th>1</th>\n",
       "      <td>2812995</td>\n",
       "      <td>OPPO</td>\n",
       "      <td>PetPage.Return.CK</td>\n",
       "      <td>天津市</td>\n",
       "      <td>1624600328483</td>\n",
       "      <td>9f3625d1f5f3037204003c4e6ecff337od</td>\n",
       "    </tr>\n",
       "    <tr>\n",
       "      <th>2</th>\n",
       "      <td>2645329</td>\n",
       "      <td>vivo</td>\n",
       "      <td>Pet.Feed.Toast.IM</td>\n",
       "      <td>玉林市</td>\n",
       "      <td>1625010651708</td>\n",
       "      <td>d15a46cc4136c3d1597c8ecc86df5c</td>\n",
       "    </tr>\n",
       "    <tr>\n",
       "      <th>3</th>\n",
       "      <td>2590875</td>\n",
       "      <td>Xiaomi</td>\n",
       "      <td>Diary.Add.Content.Save.CK</td>\n",
       "      <td>南充市</td>\n",
       "      <td>1624524615512</td>\n",
       "      <td>e4f0ea800c1f3c21886ac8c692e2a080od</td>\n",
       "    </tr>\n",
       "    <tr>\n",
       "      <th>4</th>\n",
       "      <td>3785882</td>\n",
       "      <td>Xiaomi</td>\n",
       "      <td>Home.Photo.CK</td>\n",
       "      <td>郑州市</td>\n",
       "      <td>1624598270873</td>\n",
       "      <td>a4e4a6dae0f124df5801966f6fc311a4od</td>\n",
       "    </tr>\n",
       "  </tbody>\n",
       "</table>\n",
       "</div>"
      ],
      "text/plain": [
       "   Unnamed: 0 device_brand                 event_name city  cli_timestamp  \\\n",
       "0      771346         OPPO        PetMall.PayPopup.CK  临沂市  1624889848300   \n",
       "1     2812995         OPPO          PetPage.Return.CK  天津市  1624600328483   \n",
       "2     2645329         vivo          Pet.Feed.Toast.IM  玉林市  1625010651708   \n",
       "3     2590875       Xiaomi  Diary.Add.Content.Save.CK  南充市  1624524615512   \n",
       "4     3785882       Xiaomi              Home.Photo.CK  郑州市  1624598270873   \n",
       "\n",
       "                                   id  \n",
       "0  ccc262a4a59ce6f900c4ea079d7892a4ia  \n",
       "1  9f3625d1f5f3037204003c4e6ecff337od  \n",
       "2      d15a46cc4136c3d1597c8ecc86df5c  \n",
       "3  e4f0ea800c1f3c21886ac8c692e2a080od  \n",
       "4  a4e4a6dae0f124df5801966f6fc311a4od  "
      ]
     },
     "execution_count": 257,
     "metadata": {},
     "output_type": "execute_result"
    }
   ],
   "source": [
    "#样本数据产生于2021.6.24 - 2021.6.30\n",
    "\n",
    "df = pd.read_csv(\"sample.csv\")\n",
    "print(len(df))\n",
    "df.head()"
   ]
  },
  {
   "cell_type": "markdown",
   "metadata": {},
   "source": [
    "#### 初步的数据处理和清洗"
   ]
  },
  {
   "cell_type": "code",
   "execution_count": 259,
   "metadata": {},
   "outputs": [
    {
     "data": {
      "text/html": [
       "<div>\n",
       "<style scoped>\n",
       "    .dataframe tbody tr th:only-of-type {\n",
       "        vertical-align: middle;\n",
       "    }\n",
       "\n",
       "    .dataframe tbody tr th {\n",
       "        vertical-align: top;\n",
       "    }\n",
       "\n",
       "    .dataframe thead th {\n",
       "        text-align: right;\n",
       "    }\n",
       "</style>\n",
       "<table border=\"1\" class=\"dataframe\">\n",
       "  <thead>\n",
       "    <tr style=\"text-align: right;\">\n",
       "      <th></th>\n",
       "      <th>device_brand</th>\n",
       "      <th>event_name</th>\n",
       "      <th>city</th>\n",
       "      <th>cli_timestamp</th>\n",
       "      <th>id</th>\n",
       "      <th>dt</th>\n",
       "    </tr>\n",
       "    <tr>\n",
       "      <th>dt</th>\n",
       "      <th></th>\n",
       "      <th></th>\n",
       "      <th></th>\n",
       "      <th></th>\n",
       "      <th></th>\n",
       "      <th></th>\n",
       "    </tr>\n",
       "  </thead>\n",
       "  <tbody>\n",
       "    <tr>\n",
       "      <th>2021-06-24 00:00:01.624</th>\n",
       "      <td>vivo</td>\n",
       "      <td>Home.Challenge.CK</td>\n",
       "      <td>湘潭市</td>\n",
       "      <td>1624464001624</td>\n",
       "      <td>0249552003d2302ac001f7af7c54e103od</td>\n",
       "      <td>2021-06-24 00:00:01.624</td>\n",
       "    </tr>\n",
       "    <tr>\n",
       "      <th>2021-06-24 00:00:23.257</th>\n",
       "      <td>HUAWEI</td>\n",
       "      <td>Home.Pet.CK</td>\n",
       "      <td>日照市</td>\n",
       "      <td>1624464023257</td>\n",
       "      <td>442aedc52fc9c7ae6fcd590d588606d7od</td>\n",
       "      <td>2021-06-24 00:00:23.257</td>\n",
       "    </tr>\n",
       "    <tr>\n",
       "      <th>2021-06-24 00:00:25.200</th>\n",
       "      <td>vivo</td>\n",
       "      <td>OpenScreen.ADC.REQ</td>\n",
       "      <td>梧州市</td>\n",
       "      <td>1624464025200</td>\n",
       "      <td>3642179fd1f28f3762858a6918d2c86c</td>\n",
       "      <td>2021-06-24 00:00:25.200</td>\n",
       "    </tr>\n",
       "    <tr>\n",
       "      <th>2021-06-24 00:00:30.480</th>\n",
       "      <td>HUAWEI</td>\n",
       "      <td>Gold.Slide</td>\n",
       "      <td>长沙市</td>\n",
       "      <td>1624464030480</td>\n",
       "      <td>2f2ccce2cfd8dc696a9cf3ca70fcf087</td>\n",
       "      <td>2021-06-24 00:00:30.480</td>\n",
       "    </tr>\n",
       "    <tr>\n",
       "      <th>2021-06-24 00:00:32.117</th>\n",
       "      <td>HONOR</td>\n",
       "      <td>Pet.PettingCat.Return.CK</td>\n",
       "      <td>百色市</td>\n",
       "      <td>1624464032117</td>\n",
       "      <td>cdee88357199f37c3832196691098168od</td>\n",
       "      <td>2021-06-24 00:00:32.117</td>\n",
       "    </tr>\n",
       "    <tr>\n",
       "      <th>...</th>\n",
       "      <td>...</td>\n",
       "      <td>...</td>\n",
       "      <td>...</td>\n",
       "      <td>...</td>\n",
       "      <td>...</td>\n",
       "      <td>...</td>\n",
       "    </tr>\n",
       "    <tr>\n",
       "      <th>2021-06-30 23:58:31.974</th>\n",
       "      <td>xiaomi</td>\n",
       "      <td>Home.People.IM</td>\n",
       "      <td>衡阳市</td>\n",
       "      <td>1625068711974</td>\n",
       "      <td>ad83f1f816cce248566ca2a60de3476</td>\n",
       "      <td>2021-06-30 23:58:31.974</td>\n",
       "    </tr>\n",
       "    <tr>\n",
       "      <th>2021-06-30 23:58:38.550</th>\n",
       "      <td>vivo</td>\n",
       "      <td>Home.Goods.CK</td>\n",
       "      <td>亳州市</td>\n",
       "      <td>1625068718550</td>\n",
       "      <td>fc9af3ee45769283f9757015643f374f</td>\n",
       "      <td>2021-06-30 23:58:38.550</td>\n",
       "    </tr>\n",
       "    <tr>\n",
       "      <th>2021-06-30 23:59:06.747</th>\n",
       "      <td>samsung</td>\n",
       "      <td>Home.People.Get.IM</td>\n",
       "      <td>上海市</td>\n",
       "      <td>1625068746747</td>\n",
       "      <td>386892fd88c2a64990fda1049f33cd34ia</td>\n",
       "      <td>2021-06-30 23:59:06.747</td>\n",
       "    </tr>\n",
       "    <tr>\n",
       "      <th>2021-06-30 23:59:12.959</th>\n",
       "      <td>HUAWEI</td>\n",
       "      <td>Challenge.Refresh.CK</td>\n",
       "      <td>天津市</td>\n",
       "      <td>1625068752959</td>\n",
       "      <td>e9a53c7e752fc0443a7e9f8157c20e57od</td>\n",
       "      <td>2021-06-30 23:59:12.959</td>\n",
       "    </tr>\n",
       "    <tr>\n",
       "      <th>2021-06-30 23:59:30.236</th>\n",
       "      <td>HUAWEI</td>\n",
       "      <td>Home.PiggyBank.CK</td>\n",
       "      <td>三明市</td>\n",
       "      <td>1625068770236</td>\n",
       "      <td>551eec5c770d8dff40cad9f10095edcdod</td>\n",
       "      <td>2021-06-30 23:59:30.236</td>\n",
       "    </tr>\n",
       "  </tbody>\n",
       "</table>\n",
       "<p>77413 rows × 6 columns</p>\n",
       "</div>"
      ],
      "text/plain": [
       "                        device_brand                event_name city  \\\n",
       "dt                                                                    \n",
       "2021-06-24 00:00:01.624         vivo         Home.Challenge.CK  湘潭市   \n",
       "2021-06-24 00:00:23.257       HUAWEI               Home.Pet.CK  日照市   \n",
       "2021-06-24 00:00:25.200         vivo        OpenScreen.ADC.REQ  梧州市   \n",
       "2021-06-24 00:00:30.480       HUAWEI                Gold.Slide  长沙市   \n",
       "2021-06-24 00:00:32.117        HONOR  Pet.PettingCat.Return.CK  百色市   \n",
       "...                              ...                       ...  ...   \n",
       "2021-06-30 23:58:31.974       xiaomi            Home.People.IM  衡阳市   \n",
       "2021-06-30 23:58:38.550         vivo             Home.Goods.CK  亳州市   \n",
       "2021-06-30 23:59:06.747      samsung        Home.People.Get.IM  上海市   \n",
       "2021-06-30 23:59:12.959       HUAWEI      Challenge.Refresh.CK  天津市   \n",
       "2021-06-30 23:59:30.236       HUAWEI         Home.PiggyBank.CK  三明市   \n",
       "\n",
       "                         cli_timestamp                                  id  \\\n",
       "dt                                                                           \n",
       "2021-06-24 00:00:01.624  1624464001624  0249552003d2302ac001f7af7c54e103od   \n",
       "2021-06-24 00:00:23.257  1624464023257  442aedc52fc9c7ae6fcd590d588606d7od   \n",
       "2021-06-24 00:00:25.200  1624464025200    3642179fd1f28f3762858a6918d2c86c   \n",
       "2021-06-24 00:00:30.480  1624464030480    2f2ccce2cfd8dc696a9cf3ca70fcf087   \n",
       "2021-06-24 00:00:32.117  1624464032117  cdee88357199f37c3832196691098168od   \n",
       "...                                ...                                 ...   \n",
       "2021-06-30 23:58:31.974  1625068711974     ad83f1f816cce248566ca2a60de3476   \n",
       "2021-06-30 23:58:38.550  1625068718550    fc9af3ee45769283f9757015643f374f   \n",
       "2021-06-30 23:59:06.747  1625068746747  386892fd88c2a64990fda1049f33cd34ia   \n",
       "2021-06-30 23:59:12.959  1625068752959  e9a53c7e752fc0443a7e9f8157c20e57od   \n",
       "2021-06-30 23:59:30.236  1625068770236  551eec5c770d8dff40cad9f10095edcdod   \n",
       "\n",
       "                                             dt  \n",
       "dt                                               \n",
       "2021-06-24 00:00:01.624 2021-06-24 00:00:01.624  \n",
       "2021-06-24 00:00:23.257 2021-06-24 00:00:23.257  \n",
       "2021-06-24 00:00:25.200 2021-06-24 00:00:25.200  \n",
       "2021-06-24 00:00:30.480 2021-06-24 00:00:30.480  \n",
       "2021-06-24 00:00:32.117 2021-06-24 00:00:32.117  \n",
       "...                                         ...  \n",
       "2021-06-30 23:58:31.974 2021-06-30 23:58:31.974  \n",
       "2021-06-30 23:58:38.550 2021-06-30 23:58:38.550  \n",
       "2021-06-30 23:59:06.747 2021-06-30 23:59:06.747  \n",
       "2021-06-30 23:59:12.959 2021-06-30 23:59:12.959  \n",
       "2021-06-30 23:59:30.236 2021-06-30 23:59:30.236  \n",
       "\n",
       "[77413 rows x 6 columns]"
      ]
     },
     "execution_count": 259,
     "metadata": {},
     "output_type": "execute_result"
    }
   ],
   "source": [
    "df['dt']=pd.to_datetime(df['cli_timestamp'],unit=\"ms\")+pd.Timedelta(8, unit='H')\n",
    "\n",
    "df.index = df['dt']\n",
    "\n",
    "df = df.sort_index()\n",
    "df = df[\"20210624\":\"20210630\"]\n",
    "df = df.drop(\"Unnamed: 0\",axis=1)\n",
    "df"
   ]
  },
  {
   "cell_type": "code",
   "execution_count": 269,
   "metadata": {},
   "outputs": [
    {
     "data": {
      "text/html": [
       "<div>\n",
       "<style scoped>\n",
       "    .dataframe tbody tr th:only-of-type {\n",
       "        vertical-align: middle;\n",
       "    }\n",
       "\n",
       "    .dataframe tbody tr th {\n",
       "        vertical-align: top;\n",
       "    }\n",
       "\n",
       "    .dataframe thead th {\n",
       "        text-align: right;\n",
       "    }\n",
       "</style>\n",
       "<table border=\"1\" class=\"dataframe\">\n",
       "  <thead>\n",
       "    <tr style=\"text-align: right;\">\n",
       "      <th></th>\n",
       "      <th>device_brand</th>\n",
       "      <th>event_name</th>\n",
       "      <th>city</th>\n",
       "      <th>cli_timestamp</th>\n",
       "      <th>dt</th>\n",
       "    </tr>\n",
       "    <tr>\n",
       "      <th>id</th>\n",
       "      <th></th>\n",
       "      <th></th>\n",
       "      <th></th>\n",
       "      <th></th>\n",
       "      <th></th>\n",
       "    </tr>\n",
       "  </thead>\n",
       "  <tbody>\n",
       "    <tr>\n",
       "      <th>0004996667ea380a93c8e687cf984188od</th>\n",
       "      <td>1</td>\n",
       "      <td>1</td>\n",
       "      <td>1</td>\n",
       "      <td>1</td>\n",
       "      <td>1</td>\n",
       "    </tr>\n",
       "    <tr>\n",
       "      <th>00063042cc6ff642f6a01781e1c2fd8aod</th>\n",
       "      <td>2</td>\n",
       "      <td>2</td>\n",
       "      <td>2</td>\n",
       "      <td>2</td>\n",
       "      <td>2</td>\n",
       "    </tr>\n",
       "    <tr>\n",
       "      <th>000fa88a3477c442d8360ec91dd8aacdod</th>\n",
       "      <td>3</td>\n",
       "      <td>3</td>\n",
       "      <td>3</td>\n",
       "      <td>3</td>\n",
       "      <td>3</td>\n",
       "    </tr>\n",
       "    <tr>\n",
       "      <th>00106c8d6cad2f6ddda206895dd25d88od</th>\n",
       "      <td>2</td>\n",
       "      <td>2</td>\n",
       "      <td>2</td>\n",
       "      <td>2</td>\n",
       "      <td>2</td>\n",
       "    </tr>\n",
       "    <tr>\n",
       "      <th>00148f97f6c409faee2decffd7e14ecaod</th>\n",
       "      <td>1</td>\n",
       "      <td>1</td>\n",
       "      <td>1</td>\n",
       "      <td>1</td>\n",
       "      <td>1</td>\n",
       "    </tr>\n",
       "    <tr>\n",
       "      <th>...</th>\n",
       "      <td>...</td>\n",
       "      <td>...</td>\n",
       "      <td>...</td>\n",
       "      <td>...</td>\n",
       "      <td>...</td>\n",
       "    </tr>\n",
       "    <tr>\n",
       "      <th>fff9a2324c8ca923678c0108f6aefdf</th>\n",
       "      <td>1</td>\n",
       "      <td>1</td>\n",
       "      <td>1</td>\n",
       "      <td>1</td>\n",
       "      <td>1</td>\n",
       "    </tr>\n",
       "    <tr>\n",
       "      <th>fff9e33c0a1711008f7a4e1043f1cdfcod</th>\n",
       "      <td>1</td>\n",
       "      <td>1</td>\n",
       "      <td>1</td>\n",
       "      <td>1</td>\n",
       "      <td>1</td>\n",
       "    </tr>\n",
       "    <tr>\n",
       "      <th>fffc31d83ccfa49d67455ff0a122225dod</th>\n",
       "      <td>1</td>\n",
       "      <td>1</td>\n",
       "      <td>1</td>\n",
       "      <td>1</td>\n",
       "      <td>1</td>\n",
       "    </tr>\n",
       "    <tr>\n",
       "      <th>fffc8a5d0c99684a4ac5430fc1653c75od</th>\n",
       "      <td>2</td>\n",
       "      <td>2</td>\n",
       "      <td>2</td>\n",
       "      <td>2</td>\n",
       "      <td>2</td>\n",
       "    </tr>\n",
       "    <tr>\n",
       "      <th>ffff1c689c3252c543ce1c7c571a309c</th>\n",
       "      <td>2</td>\n",
       "      <td>2</td>\n",
       "      <td>2</td>\n",
       "      <td>2</td>\n",
       "      <td>2</td>\n",
       "    </tr>\n",
       "  </tbody>\n",
       "</table>\n",
       "<p>34166 rows × 5 columns</p>\n",
       "</div>"
      ],
      "text/plain": [
       "                                    device_brand  event_name  city  \\\n",
       "id                                                                   \n",
       "0004996667ea380a93c8e687cf984188od             1           1     1   \n",
       "00063042cc6ff642f6a01781e1c2fd8aod             2           2     2   \n",
       "000fa88a3477c442d8360ec91dd8aacdod             3           3     3   \n",
       "00106c8d6cad2f6ddda206895dd25d88od             2           2     2   \n",
       "00148f97f6c409faee2decffd7e14ecaod             1           1     1   \n",
       "...                                          ...         ...   ...   \n",
       "fff9a2324c8ca923678c0108f6aefdf                1           1     1   \n",
       "fff9e33c0a1711008f7a4e1043f1cdfcod             1           1     1   \n",
       "fffc31d83ccfa49d67455ff0a122225dod             1           1     1   \n",
       "fffc8a5d0c99684a4ac5430fc1653c75od             2           2     2   \n",
       "ffff1c689c3252c543ce1c7c571a309c               2           2     2   \n",
       "\n",
       "                                    cli_timestamp  dt  \n",
       "id                                                     \n",
       "0004996667ea380a93c8e687cf984188od              1   1  \n",
       "00063042cc6ff642f6a01781e1c2fd8aod              2   2  \n",
       "000fa88a3477c442d8360ec91dd8aacdod              3   3  \n",
       "00106c8d6cad2f6ddda206895dd25d88od              2   2  \n",
       "00148f97f6c409faee2decffd7e14ecaod              1   1  \n",
       "...                                           ...  ..  \n",
       "fff9a2324c8ca923678c0108f6aefdf                 1   1  \n",
       "fff9e33c0a1711008f7a4e1043f1cdfcod              1   1  \n",
       "fffc31d83ccfa49d67455ff0a122225dod              1   1  \n",
       "fffc8a5d0c99684a4ac5430fc1653c75od              2   2  \n",
       "ffff1c689c3252c543ce1c7c571a309c                2   2  \n",
       "\n",
       "[34166 rows x 5 columns]"
      ]
     },
     "execution_count": 269,
     "metadata": {},
     "output_type": "execute_result"
    }
   ],
   "source": [
    "users = df.groupby(\"id\").count()\n",
    "users"
   ]
  },
  {
   "cell_type": "markdown",
   "metadata": {},
   "source": [
    "#### 提出假设：只产生了一个事件的用户，启动以后就退出了"
   ]
  },
  {
   "cell_type": "code",
   "execution_count": 288,
   "metadata": {},
   "outputs": [
    {
     "data": {
      "text/plain": [
       "<matplotlib.axes._subplots.AxesSubplot at 0x15cc37790>"
      ]
     },
     "execution_count": 288,
     "metadata": {},
     "output_type": "execute_result"
    },
    {
     "data": {
      "image/png": "[encoded data removed]",
      "text/plain": [
       "<Figure size 432x288 with 1 Axes>"
      ]
     },
     "metadata": {
      "needs_background": "light"
     },
     "output_type": "display_data"
    }
   ],
   "source": [
    "users['dt'].value_counts().plot(kind=\"bar\")"
   ]
  },
  {
   "cell_type": "markdown",
   "metadata": {},
   "source": [
    "#### 开始验证假设是否正确"
   ]
  },
  {
   "cell_type": "code",
   "execution_count": 272,
   "metadata": {},
   "outputs": [
    {
     "data": {
      "text/html": [
       "<div>\n",
       "<style scoped>\n",
       "    .dataframe tbody tr th:only-of-type {\n",
       "        vertical-align: middle;\n",
       "    }\n",
       "\n",
       "    .dataframe tbody tr th {\n",
       "        vertical-align: top;\n",
       "    }\n",
       "\n",
       "    .dataframe thead th {\n",
       "        text-align: right;\n",
       "    }\n",
       "</style>\n",
       "<table border=\"1\" class=\"dataframe\">\n",
       "  <thead>\n",
       "    <tr style=\"text-align: right;\">\n",
       "      <th></th>\n",
       "      <th>device_brand</th>\n",
       "      <th>event_name</th>\n",
       "      <th>city</th>\n",
       "      <th>cli_timestamp</th>\n",
       "      <th>dt</th>\n",
       "    </tr>\n",
       "    <tr>\n",
       "      <th>id</th>\n",
       "      <th></th>\n",
       "      <th></th>\n",
       "      <th></th>\n",
       "      <th></th>\n",
       "      <th></th>\n",
       "    </tr>\n",
       "  </thead>\n",
       "  <tbody>\n",
       "    <tr>\n",
       "      <th>0004996667ea380a93c8e687cf984188od</th>\n",
       "      <td>1</td>\n",
       "      <td>1</td>\n",
       "      <td>1</td>\n",
       "      <td>1</td>\n",
       "      <td>1</td>\n",
       "    </tr>\n",
       "    <tr>\n",
       "      <th>00148f97f6c409faee2decffd7e14ecaod</th>\n",
       "      <td>1</td>\n",
       "      <td>1</td>\n",
       "      <td>1</td>\n",
       "      <td>1</td>\n",
       "      <td>1</td>\n",
       "    </tr>\n",
       "    <tr>\n",
       "      <th>001853a2e5fc167e263dfc49f3c05e5cod</th>\n",
       "      <td>1</td>\n",
       "      <td>1</td>\n",
       "      <td>1</td>\n",
       "      <td>1</td>\n",
       "      <td>1</td>\n",
       "    </tr>\n",
       "    <tr>\n",
       "      <th>002010419aa705876949ac61eae42ff1od</th>\n",
       "      <td>1</td>\n",
       "      <td>1</td>\n",
       "      <td>1</td>\n",
       "      <td>1</td>\n",
       "      <td>1</td>\n",
       "    </tr>\n",
       "    <tr>\n",
       "      <th>0021180e598576a2ce55cec2a760ffa5od</th>\n",
       "      <td>1</td>\n",
       "      <td>1</td>\n",
       "      <td>1</td>\n",
       "      <td>1</td>\n",
       "      <td>1</td>\n",
       "    </tr>\n",
       "  </tbody>\n",
       "</table>\n",
       "</div>"
      ],
      "text/plain": [
       "                                    device_brand  event_name  city  \\\n",
       "id                                                                   \n",
       "0004996667ea380a93c8e687cf984188od             1           1     1   \n",
       "00148f97f6c409faee2decffd7e14ecaod             1           1     1   \n",
       "001853a2e5fc167e263dfc49f3c05e5cod             1           1     1   \n",
       "002010419aa705876949ac61eae42ff1od             1           1     1   \n",
       "0021180e598576a2ce55cec2a760ffa5od             1           1     1   \n",
       "\n",
       "                                    cli_timestamp  dt  \n",
       "id                                                     \n",
       "0004996667ea380a93c8e687cf984188od              1   1  \n",
       "00148f97f6c409faee2decffd7e14ecaod              1   1  \n",
       "001853a2e5fc167e263dfc49f3c05e5cod              1   1  \n",
       "002010419aa705876949ac61eae42ff1od              1   1  \n",
       "0021180e598576a2ce55cec2a760ffa5od              1   1  "
      ]
     },
     "execution_count": 272,
     "metadata": {},
     "output_type": "execute_result"
    }
   ],
   "source": [
    "one_ev_user = users[users['dt']==1]\n",
    "one_ev_user.head()"
   ]
  },
  {
   "cell_type": "code",
   "execution_count": 292,
   "metadata": {},
   "outputs": [
    {
     "data": {
      "text/html": [
       "<div>\n",
       "<style scoped>\n",
       "    .dataframe tbody tr th:only-of-type {\n",
       "        vertical-align: middle;\n",
       "    }\n",
       "\n",
       "    .dataframe tbody tr th {\n",
       "        vertical-align: top;\n",
       "    }\n",
       "\n",
       "    .dataframe thead th {\n",
       "        text-align: right;\n",
       "    }\n",
       "</style>\n",
       "<table border=\"1\" class=\"dataframe\">\n",
       "  <thead>\n",
       "    <tr style=\"text-align: right;\">\n",
       "      <th></th>\n",
       "      <th>device_brand</th>\n",
       "      <th>event_name</th>\n",
       "      <th>city</th>\n",
       "      <th>cli_timestamp</th>\n",
       "      <th>id</th>\n",
       "      <th>dt</th>\n",
       "    </tr>\n",
       "    <tr>\n",
       "      <th>dt</th>\n",
       "      <th></th>\n",
       "      <th></th>\n",
       "      <th></th>\n",
       "      <th></th>\n",
       "      <th></th>\n",
       "      <th></th>\n",
       "    </tr>\n",
       "  </thead>\n",
       "  <tbody>\n",
       "    <tr>\n",
       "      <th>2021-06-24 00:00:01.624</th>\n",
       "      <td>vivo</td>\n",
       "      <td>Home.Challenge.CK</td>\n",
       "      <td>湘潭市</td>\n",
       "      <td>1624464001624</td>\n",
       "      <td>0249552003d2302ac001f7af7c54e103od</td>\n",
       "      <td>2021-06-24 00:00:01.624</td>\n",
       "    </tr>\n",
       "    <tr>\n",
       "      <th>2021-06-24 00:00:23.257</th>\n",
       "      <td>HUAWEI</td>\n",
       "      <td>Home.Pet.CK</td>\n",
       "      <td>日照市</td>\n",
       "      <td>1624464023257</td>\n",
       "      <td>442aedc52fc9c7ae6fcd590d588606d7od</td>\n",
       "      <td>2021-06-24 00:00:23.257</td>\n",
       "    </tr>\n",
       "    <tr>\n",
       "      <th>2021-06-24 00:00:25.200</th>\n",
       "      <td>vivo</td>\n",
       "      <td>OpenScreen.ADC.REQ</td>\n",
       "      <td>梧州市</td>\n",
       "      <td>1624464025200</td>\n",
       "      <td>3642179fd1f28f3762858a6918d2c86c</td>\n",
       "      <td>2021-06-24 00:00:25.200</td>\n",
       "    </tr>\n",
       "    <tr>\n",
       "      <th>2021-06-24 00:00:40.306</th>\n",
       "      <td>Redmi</td>\n",
       "      <td>Movie.Chat.Send.CK</td>\n",
       "      <td>长春市</td>\n",
       "      <td>1624464040306</td>\n",
       "      <td>5930446e9f9729d0e43c50ffcf47e09fod</td>\n",
       "      <td>2021-06-24 00:00:40.306</td>\n",
       "    </tr>\n",
       "    <tr>\n",
       "      <th>2021-06-24 00:00:45.888</th>\n",
       "      <td>Redmi</td>\n",
       "      <td>Anniversary.Edit.Save.CK</td>\n",
       "      <td>太原市</td>\n",
       "      <td>1624464045888</td>\n",
       "      <td>e5fcc8e023530ef4d2c3c9a5f52c5a5cod</td>\n",
       "      <td>2021-06-24 00:00:45.888</td>\n",
       "    </tr>\n",
       "    <tr>\n",
       "      <th>...</th>\n",
       "      <td>...</td>\n",
       "      <td>...</td>\n",
       "      <td>...</td>\n",
       "      <td>...</td>\n",
       "      <td>...</td>\n",
       "      <td>...</td>\n",
       "    </tr>\n",
       "    <tr>\n",
       "      <th>2021-06-30 23:57:30.675</th>\n",
       "      <td>asus</td>\n",
       "      <td>History.Item.IM</td>\n",
       "      <td>未知</td>\n",
       "      <td>1625068650675</td>\n",
       "      <td>333c84804fcc537f38664f1ccfac21</td>\n",
       "      <td>2021-06-30 23:57:30.675</td>\n",
       "    </tr>\n",
       "    <tr>\n",
       "      <th>2021-06-30 23:57:43.763</th>\n",
       "      <td>Lenovo</td>\n",
       "      <td>Challenge.Result.Scroll</td>\n",
       "      <td>大连市</td>\n",
       "      <td>1625068663763</td>\n",
       "      <td>201ec597c7c77705673cce291621a3a2ia</td>\n",
       "      <td>2021-06-30 23:57:43.763</td>\n",
       "    </tr>\n",
       "    <tr>\n",
       "      <th>2021-06-30 23:57:52.814</th>\n",
       "      <td>realme</td>\n",
       "      <td>Closer.Customize_Lanch</td>\n",
       "      <td>北海市</td>\n",
       "      <td>1625068672814</td>\n",
       "      <td>9a151216d41c643d739dda5c14e598c5ia</td>\n",
       "      <td>2021-06-30 23:57:52.814</td>\n",
       "    </tr>\n",
       "    <tr>\n",
       "      <th>2021-06-30 23:58:14.839</th>\n",
       "      <td>OPPO</td>\n",
       "      <td>OpenScreen.ADC.SKIP</td>\n",
       "      <td>盐城市</td>\n",
       "      <td>1625068694839</td>\n",
       "      <td>ecdcaa4c865ede8fcc36f71cad73c26aod</td>\n",
       "      <td>2021-06-30 23:58:14.839</td>\n",
       "    </tr>\n",
       "    <tr>\n",
       "      <th>2021-06-30 23:59:12.959</th>\n",
       "      <td>HUAWEI</td>\n",
       "      <td>Challenge.Refresh.CK</td>\n",
       "      <td>天津市</td>\n",
       "      <td>1625068752959</td>\n",
       "      <td>e9a53c7e752fc0443a7e9f8157c20e57od</td>\n",
       "      <td>2021-06-30 23:59:12.959</td>\n",
       "    </tr>\n",
       "  </tbody>\n",
       "</table>\n",
       "<p>16249 rows × 6 columns</p>\n",
       "</div>"
      ],
      "text/plain": [
       "                        device_brand                event_name city  \\\n",
       "dt                                                                    \n",
       "2021-06-24 00:00:01.624         vivo         Home.Challenge.CK  湘潭市   \n",
       "2021-06-24 00:00:23.257       HUAWEI               Home.Pet.CK  日照市   \n",
       "2021-06-24 00:00:25.200         vivo        OpenScreen.ADC.REQ  梧州市   \n",
       "2021-06-24 00:00:40.306        Redmi        Movie.Chat.Send.CK  长春市   \n",
       "2021-06-24 00:00:45.888        Redmi  Anniversary.Edit.Save.CK  太原市   \n",
       "...                              ...                       ...  ...   \n",
       "2021-06-30 23:57:30.675         asus           History.Item.IM   未知   \n",
       "2021-06-30 23:57:43.763       Lenovo   Challenge.Result.Scroll  大连市   \n",
       "2021-06-30 23:57:52.814       realme    Closer.Customize_Lanch  北海市   \n",
       "2021-06-30 23:58:14.839         OPPO       OpenScreen.ADC.SKIP  盐城市   \n",
       "2021-06-30 23:59:12.959       HUAWEI      Challenge.Refresh.CK  天津市   \n",
       "\n",
       "                         cli_timestamp                                  id  \\\n",
       "dt                                                                           \n",
       "2021-06-24 00:00:01.624  1624464001624  0249552003d2302ac001f7af7c54e103od   \n",
       "2021-06-24 00:00:23.257  1624464023257  442aedc52fc9c7ae6fcd590d588606d7od   \n",
       "2021-06-24 00:00:25.200  1624464025200    3642179fd1f28f3762858a6918d2c86c   \n",
       "2021-06-24 00:00:40.306  1624464040306  5930446e9f9729d0e43c50ffcf47e09fod   \n",
       "2021-06-24 00:00:45.888  1624464045888  e5fcc8e023530ef4d2c3c9a5f52c5a5cod   \n",
       "...                                ...                                 ...   \n",
       "2021-06-30 23:57:30.675  1625068650675      333c84804fcc537f38664f1ccfac21   \n",
       "2021-06-30 23:57:43.763  1625068663763  201ec597c7c77705673cce291621a3a2ia   \n",
       "2021-06-30 23:57:52.814  1625068672814  9a151216d41c643d739dda5c14e598c5ia   \n",
       "2021-06-30 23:58:14.839  1625068694839  ecdcaa4c865ede8fcc36f71cad73c26aod   \n",
       "2021-06-30 23:59:12.959  1625068752959  e9a53c7e752fc0443a7e9f8157c20e57od   \n",
       "\n",
       "                                             dt  \n",
       "dt                                               \n",
       "2021-06-24 00:00:01.624 2021-06-24 00:00:01.624  \n",
       "2021-06-24 00:00:23.257 2021-06-24 00:00:23.257  \n",
       "2021-06-24 00:00:25.200 2021-06-24 00:00:25.200  \n",
       "2021-06-24 00:00:40.306 2021-06-24 00:00:40.306  \n",
       "2021-06-24 00:00:45.888 2021-06-24 00:00:45.888  \n",
       "...                                         ...  \n",
       "2021-06-30 23:57:30.675 2021-06-30 23:57:30.675  \n",
       "2021-06-30 23:57:43.763 2021-06-30 23:57:43.763  \n",
       "2021-06-30 23:57:52.814 2021-06-30 23:57:52.814  \n",
       "2021-06-30 23:58:14.839 2021-06-30 23:58:14.839  \n",
       "2021-06-30 23:59:12.959 2021-06-30 23:59:12.959  \n",
       "\n",
       "[16249 rows x 6 columns]"
      ]
     },
     "execution_count": 292,
     "metadata": {},
     "output_type": "execute_result"
    }
   ],
   "source": [
    "one_ev = df[df['id'].isin(one_ev_user.index)]\n",
    "one_ev"
   ]
  },
  {
   "cell_type": "code",
   "execution_count": 294,
   "metadata": {},
   "outputs": [
    {
     "data": {
      "text/html": [
       "<div>\n",
       "<style scoped>\n",
       "    .dataframe tbody tr th:only-of-type {\n",
       "        vertical-align: middle;\n",
       "    }\n",
       "\n",
       "    .dataframe tbody tr th {\n",
       "        vertical-align: top;\n",
       "    }\n",
       "\n",
       "    .dataframe thead th {\n",
       "        text-align: right;\n",
       "    }\n",
       "</style>\n",
       "<table border=\"1\" class=\"dataframe\">\n",
       "  <thead>\n",
       "    <tr style=\"text-align: right;\">\n",
       "      <th></th>\n",
       "      <th>device_brand</th>\n",
       "      <th>city</th>\n",
       "      <th>cli_timestamp</th>\n",
       "      <th>id</th>\n",
       "      <th>dt</th>\n",
       "    </tr>\n",
       "    <tr>\n",
       "      <th>event_name</th>\n",
       "      <th></th>\n",
       "      <th></th>\n",
       "      <th></th>\n",
       "      <th></th>\n",
       "      <th></th>\n",
       "    </tr>\n",
       "  </thead>\n",
       "  <tbody>\n",
       "    <tr>\n",
       "      <th>Home.Pet.Feed.CK</th>\n",
       "      <td>199</td>\n",
       "      <td>199</td>\n",
       "      <td>199</td>\n",
       "      <td>199</td>\n",
       "      <td>199</td>\n",
       "    </tr>\n",
       "    <tr>\n",
       "      <th>History.Item.IM</th>\n",
       "      <td>205</td>\n",
       "      <td>205</td>\n",
       "      <td>205</td>\n",
       "      <td>205</td>\n",
       "      <td>205</td>\n",
       "    </tr>\n",
       "    <tr>\n",
       "      <th>Home.Slide</th>\n",
       "      <td>208</td>\n",
       "      <td>208</td>\n",
       "      <td>208</td>\n",
       "      <td>208</td>\n",
       "      <td>208</td>\n",
       "    </tr>\n",
       "    <tr>\n",
       "      <th>Diary.Slide</th>\n",
       "      <td>239</td>\n",
       "      <td>239</td>\n",
       "      <td>239</td>\n",
       "      <td>239</td>\n",
       "      <td>239</td>\n",
       "    </tr>\n",
       "    <tr>\n",
       "      <th>Pet.Feed.Toast.IM</th>\n",
       "      <td>243</td>\n",
       "      <td>243</td>\n",
       "      <td>243</td>\n",
       "      <td>243</td>\n",
       "      <td>243</td>\n",
       "    </tr>\n",
       "    <tr>\n",
       "      <th>Home.People.Get.IM</th>\n",
       "      <td>246</td>\n",
       "      <td>246</td>\n",
       "      <td>246</td>\n",
       "      <td>246</td>\n",
       "      <td>246</td>\n",
       "    </tr>\n",
       "    <tr>\n",
       "      <th>Home.People.IM</th>\n",
       "      <td>284</td>\n",
       "      <td>284</td>\n",
       "      <td>284</td>\n",
       "      <td>284</td>\n",
       "      <td>284</td>\n",
       "    </tr>\n",
       "    <tr>\n",
       "      <th>Challenge.Answer.Select.CK</th>\n",
       "      <td>291</td>\n",
       "      <td>291</td>\n",
       "      <td>291</td>\n",
       "      <td>291</td>\n",
       "      <td>291</td>\n",
       "    </tr>\n",
       "    <tr>\n",
       "      <th>OpenScreen.ADC.REQ</th>\n",
       "      <td>295</td>\n",
       "      <td>295</td>\n",
       "      <td>295</td>\n",
       "      <td>295</td>\n",
       "      <td>295</td>\n",
       "    </tr>\n",
       "    <tr>\n",
       "      <th>Home.Drawer.CK</th>\n",
       "      <td>305</td>\n",
       "      <td>305</td>\n",
       "      <td>305</td>\n",
       "      <td>305</td>\n",
       "      <td>305</td>\n",
       "    </tr>\n",
       "    <tr>\n",
       "      <th>Home.PetStatus.launch</th>\n",
       "      <td>305</td>\n",
       "      <td>305</td>\n",
       "      <td>305</td>\n",
       "      <td>305</td>\n",
       "      <td>305</td>\n",
       "    </tr>\n",
       "    <tr>\n",
       "      <th>Home.MissYou.CK</th>\n",
       "      <td>311</td>\n",
       "      <td>311</td>\n",
       "      <td>311</td>\n",
       "      <td>311</td>\n",
       "      <td>311</td>\n",
       "    </tr>\n",
       "    <tr>\n",
       "      <th>Pet.Feed.Goods.CK</th>\n",
       "      <td>321</td>\n",
       "      <td>321</td>\n",
       "      <td>321</td>\n",
       "      <td>321</td>\n",
       "      <td>321</td>\n",
       "    </tr>\n",
       "    <tr>\n",
       "      <th>Closer.Customize_Lanch</th>\n",
       "      <td>365</td>\n",
       "      <td>365</td>\n",
       "      <td>365</td>\n",
       "      <td>365</td>\n",
       "      <td>365</td>\n",
       "    </tr>\n",
       "    <tr>\n",
       "      <th>Home.People.CK</th>\n",
       "      <td>375</td>\n",
       "      <td>375</td>\n",
       "      <td>375</td>\n",
       "      <td>375</td>\n",
       "      <td>375</td>\n",
       "    </tr>\n",
       "    <tr>\n",
       "      <th>Home.Goods.CK</th>\n",
       "      <td>407</td>\n",
       "      <td>407</td>\n",
       "      <td>407</td>\n",
       "      <td>407</td>\n",
       "      <td>407</td>\n",
       "    </tr>\n",
       "    <tr>\n",
       "      <th>Home.Pet.CK</th>\n",
       "      <td>515</td>\n",
       "      <td>515</td>\n",
       "      <td>515</td>\n",
       "      <td>515</td>\n",
       "      <td>515</td>\n",
       "    </tr>\n",
       "    <tr>\n",
       "      <th>Pet.PettingCat.Start.CK</th>\n",
       "      <td>589</td>\n",
       "      <td>589</td>\n",
       "      <td>589</td>\n",
       "      <td>589</td>\n",
       "      <td>589</td>\n",
       "    </tr>\n",
       "    <tr>\n",
       "      <th>Challenge.Refresh.CK</th>\n",
       "      <td>623</td>\n",
       "      <td>623</td>\n",
       "      <td>623</td>\n",
       "      <td>623</td>\n",
       "      <td>623</td>\n",
       "    </tr>\n",
       "    <tr>\n",
       "      <th>Pet.PettingCat.Result.IM</th>\n",
       "      <td>632</td>\n",
       "      <td>632</td>\n",
       "      <td>632</td>\n",
       "      <td>632</td>\n",
       "      <td>632</td>\n",
       "    </tr>\n",
       "  </tbody>\n",
       "</table>\n",
       "</div>"
      ],
      "text/plain": [
       "                            device_brand  city  cli_timestamp   id   dt\n",
       "event_name                                                             \n",
       "Home.Pet.Feed.CK                     199   199            199  199  199\n",
       "History.Item.IM                      205   205            205  205  205\n",
       "Home.Slide                           208   208            208  208  208\n",
       "Diary.Slide                          239   239            239  239  239\n",
       "Pet.Feed.Toast.IM                    243   243            243  243  243\n",
       "Home.People.Get.IM                   246   246            246  246  246\n",
       "Home.People.IM                       284   284            284  284  284\n",
       "Challenge.Answer.Select.CK           291   291            291  291  291\n",
       "OpenScreen.ADC.REQ                   295   295            295  295  295\n",
       "Home.Drawer.CK                       305   305            305  305  305\n",
       "Home.PetStatus.launch                305   305            305  305  305\n",
       "Home.MissYou.CK                      311   311            311  311  311\n",
       "Pet.Feed.Goods.CK                    321   321            321  321  321\n",
       "Closer.Customize_Lanch               365   365            365  365  365\n",
       "Home.People.CK                       375   375            375  375  375\n",
       "Home.Goods.CK                        407   407            407  407  407\n",
       "Home.Pet.CK                          515   515            515  515  515\n",
       "Pet.PettingCat.Start.CK              589   589            589  589  589\n",
       "Challenge.Refresh.CK                 623   623            623  623  623\n",
       "Pet.PettingCat.Result.IM             632   632            632  632  632"
      ]
     },
     "execution_count": 294,
     "metadata": {},
     "output_type": "execute_result"
    }
   ],
   "source": [
    "one_ev.groupby(\"event_name\").count().sort_values(by=\"id\").tail(20)"
   ]
  },
  {
   "cell_type": "markdown",
   "metadata": {},
   "source": [
    "#### 假设检验失败，可能的结论：\n",
    "\n",
    "1. 数据本身有问题\n",
    "2. 由于使用客户端时间，所以会存在启动在前一天发生"
   ]
  },
  {
   "cell_type": "markdown",
   "metadata": {},
   "source": [
    "#### 提出假设：根据用户属性，用户在周末更活跃"
   ]
  },
  {
   "cell_type": "code",
   "execution_count": 299,
   "metadata": {},
   "outputs": [
    {
     "data": {
      "text/html": [
       "<div>\n",
       "<style scoped>\n",
       "    .dataframe tbody tr th:only-of-type {\n",
       "        vertical-align: middle;\n",
       "    }\n",
       "\n",
       "    .dataframe tbody tr th {\n",
       "        vertical-align: top;\n",
       "    }\n",
       "\n",
       "    .dataframe thead th {\n",
       "        text-align: right;\n",
       "    }\n",
       "</style>\n",
       "<table border=\"1\" class=\"dataframe\">\n",
       "  <thead>\n",
       "    <tr style=\"text-align: right;\">\n",
       "      <th></th>\n",
       "      <th>device_brand</th>\n",
       "      <th>event_name</th>\n",
       "      <th>city</th>\n",
       "      <th>cli_timestamp</th>\n",
       "      <th>id</th>\n",
       "      <th>dt</th>\n",
       "      <th>dayofweek</th>\n",
       "    </tr>\n",
       "    <tr>\n",
       "      <th>dt</th>\n",
       "      <th></th>\n",
       "      <th></th>\n",
       "      <th></th>\n",
       "      <th></th>\n",
       "      <th></th>\n",
       "      <th></th>\n",
       "      <th></th>\n",
       "    </tr>\n",
       "  </thead>\n",
       "  <tbody>\n",
       "    <tr>\n",
       "      <th>2021-06-24 00:00:01.624</th>\n",
       "      <td>vivo</td>\n",
       "      <td>Home.Challenge.CK</td>\n",
       "      <td>湘潭市</td>\n",
       "      <td>1624464001624</td>\n",
       "      <td>0249552003d2302ac001f7af7c54e103od</td>\n",
       "      <td>2021-06-24 00:00:01.624</td>\n",
       "      <td>3</td>\n",
       "    </tr>\n",
       "    <tr>\n",
       "      <th>2021-06-24 00:00:23.257</th>\n",
       "      <td>HUAWEI</td>\n",
       "      <td>Home.Pet.CK</td>\n",
       "      <td>日照市</td>\n",
       "      <td>1624464023257</td>\n",
       "      <td>442aedc52fc9c7ae6fcd590d588606d7od</td>\n",
       "      <td>2021-06-24 00:00:23.257</td>\n",
       "      <td>3</td>\n",
       "    </tr>\n",
       "    <tr>\n",
       "      <th>2021-06-24 00:00:25.200</th>\n",
       "      <td>vivo</td>\n",
       "      <td>OpenScreen.ADC.REQ</td>\n",
       "      <td>梧州市</td>\n",
       "      <td>1624464025200</td>\n",
       "      <td>3642179fd1f28f3762858a6918d2c86c</td>\n",
       "      <td>2021-06-24 00:00:25.200</td>\n",
       "      <td>3</td>\n",
       "    </tr>\n",
       "    <tr>\n",
       "      <th>2021-06-24 00:00:30.480</th>\n",
       "      <td>HUAWEI</td>\n",
       "      <td>Gold.Slide</td>\n",
       "      <td>长沙市</td>\n",
       "      <td>1624464030480</td>\n",
       "      <td>2f2ccce2cfd8dc696a9cf3ca70fcf087</td>\n",
       "      <td>2021-06-24 00:00:30.480</td>\n",
       "      <td>3</td>\n",
       "    </tr>\n",
       "    <tr>\n",
       "      <th>2021-06-24 00:00:32.117</th>\n",
       "      <td>HONOR</td>\n",
       "      <td>Pet.PettingCat.Return.CK</td>\n",
       "      <td>百色市</td>\n",
       "      <td>1624464032117</td>\n",
       "      <td>cdee88357199f37c3832196691098168od</td>\n",
       "      <td>2021-06-24 00:00:32.117</td>\n",
       "      <td>3</td>\n",
       "    </tr>\n",
       "  </tbody>\n",
       "</table>\n",
       "</div>"
      ],
      "text/plain": [
       "                        device_brand                event_name city  \\\n",
       "dt                                                                    \n",
       "2021-06-24 00:00:01.624         vivo         Home.Challenge.CK  湘潭市   \n",
       "2021-06-24 00:00:23.257       HUAWEI               Home.Pet.CK  日照市   \n",
       "2021-06-24 00:00:25.200         vivo        OpenScreen.ADC.REQ  梧州市   \n",
       "2021-06-24 00:00:30.480       HUAWEI                Gold.Slide  长沙市   \n",
       "2021-06-24 00:00:32.117        HONOR  Pet.PettingCat.Return.CK  百色市   \n",
       "\n",
       "                         cli_timestamp                                  id  \\\n",
       "dt                                                                           \n",
       "2021-06-24 00:00:01.624  1624464001624  0249552003d2302ac001f7af7c54e103od   \n",
       "2021-06-24 00:00:23.257  1624464023257  442aedc52fc9c7ae6fcd590d588606d7od   \n",
       "2021-06-24 00:00:25.200  1624464025200    3642179fd1f28f3762858a6918d2c86c   \n",
       "2021-06-24 00:00:30.480  1624464030480    2f2ccce2cfd8dc696a9cf3ca70fcf087   \n",
       "2021-06-24 00:00:32.117  1624464032117  cdee88357199f37c3832196691098168od   \n",
       "\n",
       "                                             dt  dayofweek  \n",
       "dt                                                          \n",
       "2021-06-24 00:00:01.624 2021-06-24 00:00:01.624          3  \n",
       "2021-06-24 00:00:23.257 2021-06-24 00:00:23.257          3  \n",
       "2021-06-24 00:00:25.200 2021-06-24 00:00:25.200          3  \n",
       "2021-06-24 00:00:30.480 2021-06-24 00:00:30.480          3  \n",
       "2021-06-24 00:00:32.117 2021-06-24 00:00:32.117          3  "
      ]
     },
     "execution_count": 299,
     "metadata": {},
     "output_type": "execute_result"
    }
   ],
   "source": [
    "df['dayofweek'] = df['dt'].dt.dayofweek\n",
    "df.head()"
   ]
  },
  {
   "cell_type": "code",
   "execution_count": 302,
   "metadata": {},
   "outputs": [
    {
     "data": {
      "text/html": [
       "<div>\n",
       "<style scoped>\n",
       "    .dataframe tbody tr th:only-of-type {\n",
       "        vertical-align: middle;\n",
       "    }\n",
       "\n",
       "    .dataframe tbody tr th {\n",
       "        vertical-align: top;\n",
       "    }\n",
       "\n",
       "    .dataframe thead th {\n",
       "        text-align: right;\n",
       "    }\n",
       "</style>\n",
       "<table border=\"1\" class=\"dataframe\">\n",
       "  <thead>\n",
       "    <tr style=\"text-align: right;\">\n",
       "      <th></th>\n",
       "      <th>device_brand</th>\n",
       "      <th>event_name</th>\n",
       "      <th>city</th>\n",
       "      <th>cli_timestamp</th>\n",
       "      <th>id</th>\n",
       "      <th>dt</th>\n",
       "      <th>dayofweek</th>\n",
       "    </tr>\n",
       "    <tr>\n",
       "      <th>dt</th>\n",
       "      <th></th>\n",
       "      <th></th>\n",
       "      <th></th>\n",
       "      <th></th>\n",
       "      <th></th>\n",
       "      <th></th>\n",
       "      <th></th>\n",
       "    </tr>\n",
       "  </thead>\n",
       "  <tbody>\n",
       "    <tr>\n",
       "      <th>2021-06-24 00:16:06.163</th>\n",
       "      <td>OPPO</td>\n",
       "      <td>Closer.Customize_Lanch</td>\n",
       "      <td>芜湖市</td>\n",
       "      <td>1624464966163</td>\n",
       "      <td>e66dce4cff8d9a457c69dca770714e5c</td>\n",
       "      <td>2021-06-24 00:16:06.163</td>\n",
       "      <td>3</td>\n",
       "    </tr>\n",
       "    <tr>\n",
       "      <th>2021-06-24 00:17:24.060</th>\n",
       "      <td>vivo</td>\n",
       "      <td>Closer.Customize_Lanch</td>\n",
       "      <td>温州市</td>\n",
       "      <td>1624465044060</td>\n",
       "      <td>d527d6c37a03f4cecdee64d7e93a1a28od</td>\n",
       "      <td>2021-06-24 00:17:24.060</td>\n",
       "      <td>3</td>\n",
       "    </tr>\n",
       "    <tr>\n",
       "      <th>2021-06-24 00:25:48.528</th>\n",
       "      <td>Xiaomi</td>\n",
       "      <td>Closer.Customize_Lanch</td>\n",
       "      <td>郑州市</td>\n",
       "      <td>1624465548528</td>\n",
       "      <td>46c33e4f2082fcccd6879f37fc8edc32od</td>\n",
       "      <td>2021-06-24 00:25:48.528</td>\n",
       "      <td>3</td>\n",
       "    </tr>\n",
       "    <tr>\n",
       "      <th>2021-06-24 00:39:08.706</th>\n",
       "      <td>vivo</td>\n",
       "      <td>Closer.Customize_Lanch</td>\n",
       "      <td>六安市</td>\n",
       "      <td>1624466348706</td>\n",
       "      <td>dc4e456fefcad5feec18accf1c98127</td>\n",
       "      <td>2021-06-24 00:39:08.706</td>\n",
       "      <td>3</td>\n",
       "    </tr>\n",
       "    <tr>\n",
       "      <th>2021-06-24 01:21:07.757</th>\n",
       "      <td>HONOR</td>\n",
       "      <td>Closer.Customize_Lanch</td>\n",
       "      <td>武汉市</td>\n",
       "      <td>1624468867757</td>\n",
       "      <td>365fffe02f3e265c1281c7fca1cd0135od</td>\n",
       "      <td>2021-06-24 01:21:07.757</td>\n",
       "      <td>3</td>\n",
       "    </tr>\n",
       "  </tbody>\n",
       "</table>\n",
       "</div>"
      ],
      "text/plain": [
       "                        device_brand              event_name city  \\\n",
       "dt                                                                  \n",
       "2021-06-24 00:16:06.163         OPPO  Closer.Customize_Lanch  芜湖市   \n",
       "2021-06-24 00:17:24.060         vivo  Closer.Customize_Lanch  温州市   \n",
       "2021-06-24 00:25:48.528       Xiaomi  Closer.Customize_Lanch  郑州市   \n",
       "2021-06-24 00:39:08.706         vivo  Closer.Customize_Lanch  六安市   \n",
       "2021-06-24 01:21:07.757        HONOR  Closer.Customize_Lanch  武汉市   \n",
       "\n",
       "                         cli_timestamp                                  id  \\\n",
       "dt                                                                           \n",
       "2021-06-24 00:16:06.163  1624464966163    e66dce4cff8d9a457c69dca770714e5c   \n",
       "2021-06-24 00:17:24.060  1624465044060  d527d6c37a03f4cecdee64d7e93a1a28od   \n",
       "2021-06-24 00:25:48.528  1624465548528  46c33e4f2082fcccd6879f37fc8edc32od   \n",
       "2021-06-24 00:39:08.706  1624466348706     dc4e456fefcad5feec18accf1c98127   \n",
       "2021-06-24 01:21:07.757  1624468867757  365fffe02f3e265c1281c7fca1cd0135od   \n",
       "\n",
       "                                             dt  dayofweek  \n",
       "dt                                                          \n",
       "2021-06-24 00:16:06.163 2021-06-24 00:16:06.163          3  \n",
       "2021-06-24 00:17:24.060 2021-06-24 00:17:24.060          3  \n",
       "2021-06-24 00:25:48.528 2021-06-24 00:25:48.528          3  \n",
       "2021-06-24 00:39:08.706 2021-06-24 00:39:08.706          3  \n",
       "2021-06-24 01:21:07.757 2021-06-24 01:21:07.757          3  "
      ]
     },
     "execution_count": 302,
     "metadata": {},
     "output_type": "execute_result"
    }
   ],
   "source": [
    "lauch_df = df[df['event_name']==\"Closer.Customize_Lanch\"]\n",
    "lauch_df.head()"
   ]
  },
  {
   "cell_type": "code",
   "execution_count": 308,
   "metadata": {},
   "outputs": [
    {
     "name": "stdout",
     "output_type": "stream",
     "text": [
      "1262\n",
      "1232\n"
     ]
    }
   ],
   "source": [
    "print(len(lauch_df))\n",
    "lauch_users = lauch_df.drop_duplicates(\"id\")\n",
    "print(len(lauch_users))"
   ]
  },
  {
   "cell_type": "code",
   "execution_count": 309,
   "metadata": {},
   "outputs": [
    {
     "data": {
      "text/plain": [
       "<matplotlib.axes._subplots.AxesSubplot at 0x163ceff90>"
      ]
     },
     "execution_count": 309,
     "metadata": {},
     "output_type": "execute_result"
    },
    {
     "data": {
      "image/png": "[encoded data removed]",
      "text/plain": [
       "<Figure size 432x288 with 1 Axes>"
      ]
     },
     "metadata": {
      "needs_background": "light"
     },
     "output_type": "display_data"
    }
   ],
   "source": [
    "lauch_users.groupby(\"dayofweek\").count()['dt'].plot(kind=\"bar\")"
   ]
  },
  {
   "cell_type": "markdown",
   "metadata": {},
   "source": [
    "#### 假设基本符合，周末启动的用户最多，周三最不活跃"
   ]
  },
  {
   "cell_type": "markdown",
   "metadata": {},
   "source": [
    "# 答疑和后续\n",
    "\n",
    "* 数据分析学习群？\n",
    "* 结对实践？"
   ]
  }
 ],
 "metadata": {
  "kernelspec": {
   "display_name": "Python 3",
   "language": "python",
   "name": "python3"
  },
  "language_info": {
   "codemirror_mode": {
    "name": "ipython",
    "version": 3
   },
   "file_extension": ".py",
   "mimetype": "text/x-python",
   "name": "python",
   "nbconvert_exporter": "python",
   "pygments_lexer": "ipython3",
   "version": "3.7.6"
  }
 },
 "nbformat": 4,
 "nbformat_minor": 4
}
