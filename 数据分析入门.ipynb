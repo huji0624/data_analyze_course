{
 "cells": [
  {
   "cell_type": "markdown",
   "metadata": {},
   "source": [
    "# 课程简介\n",
    "\n",
    "* 自学指南\n",
    "* 数据分析大概怎么做，难点在哪\n",
    "* Python简单回顾\n",
    "* Pandas VS Python\n",
    "* Pandas基础知识\n",
    "* 实战1：时间序列分析，bitcoin短期价格分析\n",
    "* 实战2：用户行为数据分析"
   ]
  },
  {
   "cell_type": "markdown",
   "metadata": {},
   "source": [
    "# 自学指南\n",
    "\n",
    "* conda安装：https://www.anaconda.com/products/individual\n",
    "* Jupyter Notebook安装：https://jupyter.org/install.html\n",
    "* Python教程：http://www.ttlsa.com/docs/jianming-python/python/  ，看以下几个部分就行了 1,2,3,4,5,6,7,9\n",
    "* Pandas官方教程：https://pandas.pydata.org/pandas-docs/stable/getting_started/index.html"
   ]
  },
  {
   "cell_type": "markdown",
   "metadata": {},
   "source": [
    "# 数据分析大概怎么做，难点在哪"
   ]
  },
  {
   "cell_type": "markdown",
   "metadata": {},
   "source": [
    "#### 难点\n",
    "1. 懂业务的人不懂程序，懂程序的人不懂业务，懂程序懂业务的人可能不懂统计\n",
    "2. 数据分析，数据挖掘是一个交叉性非常强的方向，对人员综合素质要求较高"
   ]
  },
  {
   "cell_type": "markdown",
   "metadata": {},
   "source": [
    "#### 怎么做（个人经验）\n",
    "1. 掌握相关编程技能\n",
    "2. 了解基本的统计学指标\n",
    "3. 深入理解业务本身\n",
    "4. 进行 提出假设 -》根据数据验证假设 -》得到结论和新的洞见 -》提出假设 的循环"
   ]
  },
  {
   "cell_type": "markdown",
   "metadata": {},
   "source": [
    "# Python简单回顾"
   ]
  },
  {
   "cell_type": "markdown",
   "metadata": {},
   "source": [
    "# Pandas VS Python"
   ]
  },
  {
   "cell_type": "markdown",
   "metadata": {},
   "source": [
    "# Pandas基础知识"
   ]
  },
  {
   "cell_type": "markdown",
   "metadata": {},
   "source": [
    "# 实战1：时间序列分析，bitcoin短期价格分析"
   ]
  },
  {
   "cell_type": "markdown",
   "metadata": {},
   "source": [
    "# 实战2：用户行为数据分析"
   ]
  },
  {
   "cell_type": "markdown",
   "metadata": {},
   "source": [
    "# 答疑和后续\n",
    "\n",
    "* 数据分析学习群？\n",
    "* 结对实践？"
   ]
  }
 ],
 "metadata": {
  "kernelspec": {
   "display_name": "Python 3",
   "language": "python",
   "name": "python3"
  },
  "language_info": {
   "codemirror_mode": {
    "name": "ipython",
    "version": 3
   },
   "file_extension": ".py",
   "mimetype": "text/x-python",
   "name": "python",
   "nbconvert_exporter": "python",
   "pygments_lexer": "ipython3",
   "version": "3.7.6"
  }
 },
 "nbformat": 4,
 "nbformat_minor": 4
}
